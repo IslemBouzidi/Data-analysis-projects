{
 "cells": [
  {
   "cell_type": "markdown",
   "id": "b8d2c916",
   "metadata": {},
   "source": [
    "# THE HAPPINESS IN THE WORLD : "
   ]
  },
  {
   "cell_type": "markdown",
   "id": "403dd478",
   "metadata": {},
   "source": [
    "### IMPORTING   THE PACKAGES & THE DATA:"
   ]
  },
  {
   "cell_type": "code",
   "execution_count": 51,
   "id": "f9c76ce8",
   "metadata": {},
   "outputs": [],
   "source": [
    "import pandas as pd\n",
    "import seaborn as sns\n",
    "import numpy as np\n",
    "import plotly.express as px\n",
    "import plotly as pl \n",
    "\n",
    "import matplotlib\n",
    "import matplotlib.pyplot as plt\n",
    "plt.style.use('ggplot')\n",
    "\n",
    "from matplotlib.pyplot import figure\n",
    "\n",
    "%matplotlib inline \n",
    "matplotlib.rcParams['figure.figsize'] = (12,8)"
   ]
  },
  {
   "cell_type": "code",
   "execution_count": 52,
   "id": "59d24145",
   "metadata": {},
   "outputs": [],
   "source": [
    "df = pd.read_csv('world-happiness-report-2021.csv')"
   ]
  },
  {
   "cell_type": "code",
   "execution_count": 53,
   "id": "3c06b177",
   "metadata": {
    "scrolled": false
   },
   "outputs": [
    {
     "data": {
      "text/html": [
       "<div>\n",
       "<style scoped>\n",
       "    .dataframe tbody tr th:only-of-type {\n",
       "        vertical-align: middle;\n",
       "    }\n",
       "\n",
       "    .dataframe tbody tr th {\n",
       "        vertical-align: top;\n",
       "    }\n",
       "\n",
       "    .dataframe thead th {\n",
       "        text-align: right;\n",
       "    }\n",
       "</style>\n",
       "<table border=\"1\" class=\"dataframe\">\n",
       "  <thead>\n",
       "    <tr style=\"text-align: right;\">\n",
       "      <th></th>\n",
       "      <th>Country name</th>\n",
       "      <th>Regional indicator</th>\n",
       "      <th>Ladder score</th>\n",
       "      <th>Standard error of ladder score</th>\n",
       "      <th>upperwhisker</th>\n",
       "      <th>lowerwhisker</th>\n",
       "      <th>Logged GDP per capita</th>\n",
       "      <th>Social support</th>\n",
       "      <th>Healthy life expectancy</th>\n",
       "      <th>Freedom to make life choices</th>\n",
       "      <th>Generosity</th>\n",
       "      <th>Perceptions of corruption</th>\n",
       "      <th>Ladder score in Dystopia</th>\n",
       "      <th>Explained by: Log GDP per capita</th>\n",
       "      <th>Explained by: Social support</th>\n",
       "      <th>Explained by: Healthy life expectancy</th>\n",
       "      <th>Explained by: Freedom to make life choices</th>\n",
       "      <th>Explained by: Generosity</th>\n",
       "      <th>Explained by: Perceptions of corruption</th>\n",
       "      <th>Dystopia + residual</th>\n",
       "    </tr>\n",
       "  </thead>\n",
       "  <tbody>\n",
       "    <tr>\n",
       "      <th>0</th>\n",
       "      <td>Finland</td>\n",
       "      <td>Western Europe</td>\n",
       "      <td>7.842</td>\n",
       "      <td>0.032</td>\n",
       "      <td>7.904</td>\n",
       "      <td>7.780</td>\n",
       "      <td>10.775</td>\n",
       "      <td>0.954</td>\n",
       "      <td>72.0</td>\n",
       "      <td>0.949</td>\n",
       "      <td>-0.098</td>\n",
       "      <td>0.186</td>\n",
       "      <td>2.43</td>\n",
       "      <td>1.446</td>\n",
       "      <td>1.106</td>\n",
       "      <td>0.741</td>\n",
       "      <td>0.691</td>\n",
       "      <td>0.124</td>\n",
       "      <td>0.481</td>\n",
       "      <td>3.253</td>\n",
       "    </tr>\n",
       "    <tr>\n",
       "      <th>1</th>\n",
       "      <td>Denmark</td>\n",
       "      <td>Western Europe</td>\n",
       "      <td>7.620</td>\n",
       "      <td>0.035</td>\n",
       "      <td>7.687</td>\n",
       "      <td>7.552</td>\n",
       "      <td>10.933</td>\n",
       "      <td>0.954</td>\n",
       "      <td>72.7</td>\n",
       "      <td>0.946</td>\n",
       "      <td>0.030</td>\n",
       "      <td>0.179</td>\n",
       "      <td>2.43</td>\n",
       "      <td>1.502</td>\n",
       "      <td>1.108</td>\n",
       "      <td>0.763</td>\n",
       "      <td>0.686</td>\n",
       "      <td>0.208</td>\n",
       "      <td>0.485</td>\n",
       "      <td>2.868</td>\n",
       "    </tr>\n",
       "    <tr>\n",
       "      <th>2</th>\n",
       "      <td>Switzerland</td>\n",
       "      <td>Western Europe</td>\n",
       "      <td>7.571</td>\n",
       "      <td>0.036</td>\n",
       "      <td>7.643</td>\n",
       "      <td>7.500</td>\n",
       "      <td>11.117</td>\n",
       "      <td>0.942</td>\n",
       "      <td>74.4</td>\n",
       "      <td>0.919</td>\n",
       "      <td>0.025</td>\n",
       "      <td>0.292</td>\n",
       "      <td>2.43</td>\n",
       "      <td>1.566</td>\n",
       "      <td>1.079</td>\n",
       "      <td>0.816</td>\n",
       "      <td>0.653</td>\n",
       "      <td>0.204</td>\n",
       "      <td>0.413</td>\n",
       "      <td>2.839</td>\n",
       "    </tr>\n",
       "    <tr>\n",
       "      <th>3</th>\n",
       "      <td>Iceland</td>\n",
       "      <td>Western Europe</td>\n",
       "      <td>7.554</td>\n",
       "      <td>0.059</td>\n",
       "      <td>7.670</td>\n",
       "      <td>7.438</td>\n",
       "      <td>10.878</td>\n",
       "      <td>0.983</td>\n",
       "      <td>73.0</td>\n",
       "      <td>0.955</td>\n",
       "      <td>0.160</td>\n",
       "      <td>0.673</td>\n",
       "      <td>2.43</td>\n",
       "      <td>1.482</td>\n",
       "      <td>1.172</td>\n",
       "      <td>0.772</td>\n",
       "      <td>0.698</td>\n",
       "      <td>0.293</td>\n",
       "      <td>0.170</td>\n",
       "      <td>2.967</td>\n",
       "    </tr>\n",
       "    <tr>\n",
       "      <th>4</th>\n",
       "      <td>Netherlands</td>\n",
       "      <td>Western Europe</td>\n",
       "      <td>7.464</td>\n",
       "      <td>0.027</td>\n",
       "      <td>7.518</td>\n",
       "      <td>7.410</td>\n",
       "      <td>10.932</td>\n",
       "      <td>0.942</td>\n",
       "      <td>72.4</td>\n",
       "      <td>0.913</td>\n",
       "      <td>0.175</td>\n",
       "      <td>0.338</td>\n",
       "      <td>2.43</td>\n",
       "      <td>1.501</td>\n",
       "      <td>1.079</td>\n",
       "      <td>0.753</td>\n",
       "      <td>0.647</td>\n",
       "      <td>0.302</td>\n",
       "      <td>0.384</td>\n",
       "      <td>2.798</td>\n",
       "    </tr>\n",
       "  </tbody>\n",
       "</table>\n",
       "</div>"
      ],
      "text/plain": [
       "  Country name Regional indicator  Ladder score  \\\n",
       "0      Finland     Western Europe         7.842   \n",
       "1      Denmark     Western Europe         7.620   \n",
       "2  Switzerland     Western Europe         7.571   \n",
       "3      Iceland     Western Europe         7.554   \n",
       "4  Netherlands     Western Europe         7.464   \n",
       "\n",
       "   Standard error of ladder score  upperwhisker  lowerwhisker  \\\n",
       "0                           0.032         7.904         7.780   \n",
       "1                           0.035         7.687         7.552   \n",
       "2                           0.036         7.643         7.500   \n",
       "3                           0.059         7.670         7.438   \n",
       "4                           0.027         7.518         7.410   \n",
       "\n",
       "   Logged GDP per capita  Social support  Healthy life expectancy  \\\n",
       "0                 10.775           0.954                     72.0   \n",
       "1                 10.933           0.954                     72.7   \n",
       "2                 11.117           0.942                     74.4   \n",
       "3                 10.878           0.983                     73.0   \n",
       "4                 10.932           0.942                     72.4   \n",
       "\n",
       "   Freedom to make life choices  Generosity  Perceptions of corruption  \\\n",
       "0                         0.949      -0.098                      0.186   \n",
       "1                         0.946       0.030                      0.179   \n",
       "2                         0.919       0.025                      0.292   \n",
       "3                         0.955       0.160                      0.673   \n",
       "4                         0.913       0.175                      0.338   \n",
       "\n",
       "   Ladder score in Dystopia  Explained by: Log GDP per capita  \\\n",
       "0                      2.43                             1.446   \n",
       "1                      2.43                             1.502   \n",
       "2                      2.43                             1.566   \n",
       "3                      2.43                             1.482   \n",
       "4                      2.43                             1.501   \n",
       "\n",
       "   Explained by: Social support  Explained by: Healthy life expectancy  \\\n",
       "0                         1.106                                  0.741   \n",
       "1                         1.108                                  0.763   \n",
       "2                         1.079                                  0.816   \n",
       "3                         1.172                                  0.772   \n",
       "4                         1.079                                  0.753   \n",
       "\n",
       "   Explained by: Freedom to make life choices  Explained by: Generosity  \\\n",
       "0                                       0.691                     0.124   \n",
       "1                                       0.686                     0.208   \n",
       "2                                       0.653                     0.204   \n",
       "3                                       0.698                     0.293   \n",
       "4                                       0.647                     0.302   \n",
       "\n",
       "   Explained by: Perceptions of corruption  Dystopia + residual  \n",
       "0                                    0.481                3.253  \n",
       "1                                    0.485                2.868  \n",
       "2                                    0.413                2.839  \n",
       "3                                    0.170                2.967  \n",
       "4                                    0.384                2.798  "
      ]
     },
     "execution_count": 53,
     "metadata": {},
     "output_type": "execute_result"
    }
   ],
   "source": [
    "df.head()"
   ]
  },
  {
   "cell_type": "markdown",
   "id": "36e5fc66",
   "metadata": {},
   "source": [
    "# I- OVERVIEW :"
   ]
  },
  {
   "cell_type": "markdown",
   "id": "413ac4f4",
   "metadata": {},
   "source": [
    "# History:"
   ]
  },
  {
   "cell_type": "markdown",
   "id": "e150b55a",
   "metadata": {},
   "source": [
    "The World Happiness Report is a publication of the United Nations Sustainable Development Solutions Network. It contains articles and rankings of national happiness, based on respondent ratings of their own lives,[1] which the report also correlates with various (quality of) life factors.[2] As of March 2021, Finland had been ranked the happiest country in the world four times in a row.[3][4][5]\n",
    "\n",
    "The report primarily uses data from the Gallup World Poll. Each annual report is available to the public to download on the World Happiness Report website"
   ]
  },
  {
   "cell_type": "markdown",
   "id": "658742a8",
   "metadata": {},
   "source": [
    "# THE MEANING OF THE COLUMNS :"
   ]
  },
  {
   "cell_type": "markdown",
   "id": "426a8bfe",
   "metadata": {},
   "source": [
    "### 1) - Logged GDP per capita :"
   ]
  },
  {
   "cell_type": "markdown",
   "id": "d959231b",
   "metadata": {},
   "source": [
    "The gross domestic product per capita, or GDP per capita (person), is a measure of a country's economic output that accounts for its number of people. It divides the country's gross domestic product by its total population."
   ]
  },
  {
   "cell_type": "markdown",
   "id": "dbeb700a",
   "metadata": {},
   "source": [
    "### 2) - Social support :"
   ]
  },
  {
   "cell_type": "markdown",
   "id": "7d0197cc",
   "metadata": {},
   "source": [
    "Social support can be measured as the perception that one has assistance available, the actual received assistance, or the degree to which a person is integrated in a social network. Support can come from many sources, such as family, friends, pets, neighbors, coworkers, organizations, etc."
   ]
  },
  {
   "cell_type": "markdown",
   "id": "9cf5609b",
   "metadata": {},
   "source": [
    "### 3) - Healthy life expectancy :"
   ]
  },
  {
   "cell_type": "markdown",
   "id": "c561f977",
   "metadata": {},
   "source": [
    "\n",
    "Life expectancy is a statistical measure of the average time an organism is expected to live, based on the year of its birth, its current age, and other demographic factors including biological sex"
   ]
  },
  {
   "cell_type": "markdown",
   "id": "d884df5a",
   "metadata": {},
   "source": [
    "### 4) - Perceptions of corruption :"
   ]
  },
  {
   "cell_type": "markdown",
   "id": "0e0a8696",
   "metadata": {},
   "source": [
    "means degree of corruption in the country"
   ]
  },
  {
   "cell_type": "markdown",
   "id": "001a1122",
   "metadata": {},
   "source": [
    "# II-THE ANAYSIS :"
   ]
  },
  {
   "cell_type": "markdown",
   "id": "6855368a",
   "metadata": {},
   "source": [
    "### 1- first look at the data :"
   ]
  },
  {
   "cell_type": "markdown",
   "id": "055d26c1",
   "metadata": {},
   "source": [
    "#### Data summary with plotly :"
   ]
  },
  {
   "cell_type": "code",
   "execution_count": 54,
   "id": "4a73a83f",
   "metadata": {},
   "outputs": [
    {
     "data": {
      "application/vnd.plotly.v1+json": {
       "config": {
        "plotlyServerURL": "https://plot.ly"
       },
       "data": [
        {
         "branchvalues": "total",
         "customdata": [
          [
           2.523
          ],
          [
           5.117
          ],
          [
           4.887
          ],
          [
           5.929
          ],
          [
           5.283
          ],
          [
           7.183
          ],
          [
           7.268
          ],
          [
           5.171
          ],
          [
           6.647000000000001
          ],
          [
           5.025
          ],
          [
           5.534
          ],
          [
           6.833999999999999
          ],
          [
           5.045
          ],
          [
           5.716
          ],
          [
           5.813
          ],
          [
           3.467
          ],
          [
           6.33
          ],
          [
           5.266
          ],
          [
           4.834
          ],
          [
           3.775
          ],
          [
           4.83
          ],
          [
           5.142
          ],
          [
           7.103
          ],
          [
           4.355
          ],
          [
           6.172000000000001
          ],
          [
           5.339
          ],
          [
           6.012
          ],
          [
           4.289
          ],
          [
           5.342
          ],
          [
           7.068999999999999
          ],
          [
           5.882000000000001
          ],
          [
           6.223000000000001
          ],
          [
           6.965
          ],
          [
           7.62
          ],
          [
           5.545
          ],
          [
           5.764
          ],
          [
           4.283
          ],
          [
           6.061
          ],
          [
           6.189
          ],
          [
           4.275
          ],
          [
           7.842
          ],
          [
           6.69
          ],
          [
           4.852
          ],
          [
           5.051
          ],
          [
           4.891
          ],
          [
           7.155
          ],
          [
           5.088
          ],
          [
           5.722999999999999
          ],
          [
           6.435
          ],
          [
           4.984
          ],
          [
           3.615
          ],
          [
           5.919
          ],
          [
           5.477
          ],
          [
           5.992
          ],
          [
           7.554
          ],
          [
           3.819
          ],
          [
           5.345
          ],
          [
           4.721
          ],
          [
           4.854
          ],
          [
           7.084999999999999
          ],
          [
           7.156999999999999
          ],
          [
           6.4830000000000005
          ],
          [
           5.306
          ],
          [
           6.309000000000001
          ],
          [
           5.94
          ],
          [
           4.395
          ],
          [
           6.152
          ],
          [
           4.607
          ],
          [
           6.372
          ],
          [
           6.105999999999999
          ],
          [
           5.744
          ],
          [
           5.03
          ],
          [
           6.032
          ],
          [
           4.584
          ],
          [
           3.512
          ],
          [
           4.625
          ],
          [
           5.41
          ],
          [
           6.255
          ],
          [
           7.324
          ],
          [
           4.208
          ],
          [
           3.6
          ],
          [
           5.384
          ],
          [
           5.198
          ],
          [
           4.723
          ],
          [
           6.602
          ],
          [
           4.227
          ],
          [
           6.049
          ],
          [
           6.317000000000001
          ],
          [
           5.766
          ],
          [
           5.677
          ],
          [
           5.581
          ],
          [
           4.918
          ],
          [
           4.794
          ],
          [
           4.426
          ],
          [
           4.574
          ],
          [
           5.269
          ],
          [
           7.464
          ],
          [
           7.277
          ],
          [
           5.972
          ],
          [
           5.074
          ],
          [
           4.759
          ],
          [
           5.536
          ],
          [
           5.101
          ],
          [
           7.392
          ],
          [
           4.934
          ],
          [
           4.517
          ],
          [
           6.180000000000001
          ],
          [
           5.653
          ],
          [
           5.839999999999999
          ],
          [
           5.88
          ],
          [
           6.1659999999999995
          ],
          [
           5.929
          ],
          [
           6.14
          ],
          [
           5.477
          ],
          [
           3.4149999999999996
          ],
          [
           6.494
          ],
          [
           5.132
          ],
          [
           6.078
          ],
          [
           3.849
          ],
          [
           6.377
          ],
          [
           6.331
          ],
          [
           6.461
          ],
          [
           4.956
          ],
          [
           5.845
          ],
          [
           6.491
          ],
          [
           4.325
          ],
          [
           4.308
          ],
          [
           7.363
          ],
          [
           7.571
          ],
          [
           6.584
          ],
          [
           5.466
          ],
          [
           3.623
          ],
          [
           5.984999999999999
          ],
          [
           4.107
          ],
          [
           4.596
          ],
          [
           4.948
          ],
          [
           5.066
          ],
          [
           4.636
          ],
          [
           4.875
          ],
          [
           6.561
          ],
          [
           7.064
          ],
          [
           6.951
          ],
          [
           6.431000000000001
          ],
          [
           6.179
          ],
          [
           4.892
          ],
          [
           5.411
          ],
          [
           3.658
          ],
          [
           4.073
          ],
          [
           3.1450000000000005
          ],
          [
           6.0230375659763515
          ],
          [
           5.499184043655874
          ],
          [
           5.838089036773564
          ],
          [
           5.985376960249152
          ],
          [
           5.399807789397764
          ],
          [
           7.130505295644244
          ],
          [
           4.632311484900139
          ],
          [
           5.467975507520342
          ],
          [
           4.587246203669941
          ],
          [
           6.9742682886518415
          ]
         ],
         "domain": {
          "x": [
           0,
           1
          ],
          "y": [
           0,
           1
          ]
         },
         "hovertemplate": "labels=%{label}<br>Ladder score_sum=%{value}<br>parent=%{parent}<br>id=%{id}<br>Ladder score=%{color}<extra></extra>",
         "ids": [
          "South Asia/Afghanistan",
          "Central and Eastern Europe/Albania",
          "Middle East and North Africa/Algeria",
          "Latin America and Caribbean/Argentina",
          "Commonwealth of Independent States/Armenia",
          "North America and ANZ/Australia",
          "Western Europe/Austria",
          "Commonwealth of Independent States/Azerbaijan",
          "Middle East and North Africa/Bahrain",
          "South Asia/Bangladesh",
          "Commonwealth of Independent States/Belarus",
          "Western Europe/Belgium",
          "Sub-Saharan Africa/Benin",
          "Latin America and Caribbean/Bolivia",
          "Central and Eastern Europe/Bosnia and Herzegovina",
          "Sub-Saharan Africa/Botswana",
          "Latin America and Caribbean/Brazil",
          "Central and Eastern Europe/Bulgaria",
          "Sub-Saharan Africa/Burkina Faso",
          "Sub-Saharan Africa/Burundi",
          "Southeast Asia/Cambodia",
          "Sub-Saharan Africa/Cameroon",
          "North America and ANZ/Canada",
          "Sub-Saharan Africa/Chad",
          "Latin America and Caribbean/Chile",
          "East Asia/China",
          "Latin America and Caribbean/Colombia",
          "Sub-Saharan Africa/Comoros",
          "Sub-Saharan Africa/Congo (Brazzaville)",
          "Latin America and Caribbean/Costa Rica",
          "Central and Eastern Europe/Croatia",
          "Western Europe/Cyprus",
          "Central and Eastern Europe/Czech Republic",
          "Western Europe/Denmark",
          "Latin America and Caribbean/Dominican Republic",
          "Latin America and Caribbean/Ecuador",
          "Middle East and North Africa/Egypt",
          "Latin America and Caribbean/El Salvador",
          "Central and Eastern Europe/Estonia",
          "Sub-Saharan Africa/Ethiopia",
          "Western Europe/Finland",
          "Western Europe/France",
          "Sub-Saharan Africa/Gabon",
          "Sub-Saharan Africa/Gambia",
          "Commonwealth of Independent States/Georgia",
          "Western Europe/Germany",
          "Sub-Saharan Africa/Ghana",
          "Western Europe/Greece",
          "Latin America and Caribbean/Guatemala",
          "Sub-Saharan Africa/Guinea",
          "Latin America and Caribbean/Haiti",
          "Latin America and Caribbean/Honduras",
          "East Asia/Hong Kong S.A.R. of China",
          "Central and Eastern Europe/Hungary",
          "Western Europe/Iceland",
          "South Asia/India",
          "Southeast Asia/Indonesia",
          "Middle East and North Africa/Iran",
          "Middle East and North Africa/Iraq",
          "Western Europe/Ireland",
          "Middle East and North Africa/Israel",
          "Western Europe/Italy",
          "Sub-Saharan Africa/Ivory Coast",
          "Latin America and Caribbean/Jamaica",
          "East Asia/Japan",
          "Middle East and North Africa/Jordan",
          "Commonwealth of Independent States/Kazakhstan",
          "Sub-Saharan Africa/Kenya",
          "Central and Eastern Europe/Kosovo",
          "Middle East and North Africa/Kuwait",
          "Commonwealth of Independent States/Kyrgyzstan",
          "Southeast Asia/Laos",
          "Central and Eastern Europe/Latvia",
          "Middle East and North Africa/Lebanon",
          "Sub-Saharan Africa/Lesotho",
          "Sub-Saharan Africa/Liberia",
          "Middle East and North Africa/Libya",
          "Central and Eastern Europe/Lithuania",
          "Western Europe/Luxembourg",
          "Sub-Saharan Africa/Madagascar",
          "Sub-Saharan Africa/Malawi",
          "Southeast Asia/Malaysia",
          "South Asia/Maldives",
          "Sub-Saharan Africa/Mali",
          "Western Europe/Malta",
          "Sub-Saharan Africa/Mauritania",
          "Sub-Saharan Africa/Mauritius",
          "Latin America and Caribbean/Mexico",
          "Commonwealth of Independent States/Moldova",
          "East Asia/Mongolia",
          "Central and Eastern Europe/Montenegro",
          "Middle East and North Africa/Morocco",
          "Sub-Saharan Africa/Mozambique",
          "Southeast Asia/Myanmar",
          "Sub-Saharan Africa/Namibia",
          "South Asia/Nepal",
          "Western Europe/Netherlands",
          "North America and ANZ/New Zealand",
          "Latin America and Caribbean/Nicaragua",
          "Sub-Saharan Africa/Niger",
          "Sub-Saharan Africa/Nigeria",
          "Western Europe/North Cyprus",
          "Central and Eastern Europe/North Macedonia",
          "Western Europe/Norway",
          "South Asia/Pakistan",
          "Middle East and North Africa/Palestinian Territories",
          "Latin America and Caribbean/Panama",
          "Latin America and Caribbean/Paraguay",
          "Latin America and Caribbean/Peru",
          "Southeast Asia/Philippines",
          "Central and Eastern Europe/Poland",
          "Western Europe/Portugal",
          "Central and Eastern Europe/Romania",
          "Commonwealth of Independent States/Russia",
          "Sub-Saharan Africa/Rwanda",
          "Middle East and North Africa/Saudi Arabia",
          "Sub-Saharan Africa/Senegal",
          "Central and Eastern Europe/Serbia",
          "Sub-Saharan Africa/Sierra Leone",
          "Southeast Asia/Singapore",
          "Central and Eastern Europe/Slovakia",
          "Central and Eastern Europe/Slovenia",
          "Sub-Saharan Africa/South Africa",
          "East Asia/South Korea",
          "Western Europe/Spain",
          "South Asia/Sri Lanka",
          "Sub-Saharan Africa/Swaziland",
          "Western Europe/Sweden",
          "Western Europe/Switzerland",
          "East Asia/Taiwan Province of China",
          "Commonwealth of Independent States/Tajikistan",
          "Sub-Saharan Africa/Tanzania",
          "Southeast Asia/Thailand",
          "Sub-Saharan Africa/Togo",
          "Middle East and North Africa/Tunisia",
          "Middle East and North Africa/Turkey",
          "Commonwealth of Independent States/Turkmenistan",
          "Sub-Saharan Africa/Uganda",
          "Commonwealth of Independent States/Ukraine",
          "Middle East and North Africa/United Arab Emirates",
          "Western Europe/United Kingdom",
          "North America and ANZ/United States",
          "Latin America and Caribbean/Uruguay",
          "Commonwealth of Independent States/Uzbekistan",
          "Latin America and Caribbean/Venezuela",
          "Southeast Asia/Vietnam",
          "Middle East and North Africa/Yemen",
          "Sub-Saharan Africa/Zambia",
          "Sub-Saharan Africa/Zimbabwe",
          "Central and Eastern Europe",
          "Commonwealth of Independent States",
          "East Asia",
          "Latin America and Caribbean",
          "Middle East and North Africa",
          "North America and ANZ",
          "South Asia",
          "Southeast Asia",
          "Sub-Saharan Africa",
          "Western Europe"
         ],
         "labels": [
          "Afghanistan",
          "Albania",
          "Algeria",
          "Argentina",
          "Armenia",
          "Australia",
          "Austria",
          "Azerbaijan",
          "Bahrain",
          "Bangladesh",
          "Belarus",
          "Belgium",
          "Benin",
          "Bolivia",
          "Bosnia and Herzegovina",
          "Botswana",
          "Brazil",
          "Bulgaria",
          "Burkina Faso",
          "Burundi",
          "Cambodia",
          "Cameroon",
          "Canada",
          "Chad",
          "Chile",
          "China",
          "Colombia",
          "Comoros",
          "Congo (Brazzaville)",
          "Costa Rica",
          "Croatia",
          "Cyprus",
          "Czech Republic",
          "Denmark",
          "Dominican Republic",
          "Ecuador",
          "Egypt",
          "El Salvador",
          "Estonia",
          "Ethiopia",
          "Finland",
          "France",
          "Gabon",
          "Gambia",
          "Georgia",
          "Germany",
          "Ghana",
          "Greece",
          "Guatemala",
          "Guinea",
          "Haiti",
          "Honduras",
          "Hong Kong S.A.R. of China",
          "Hungary",
          "Iceland",
          "India",
          "Indonesia",
          "Iran",
          "Iraq",
          "Ireland",
          "Israel",
          "Italy",
          "Ivory Coast",
          "Jamaica",
          "Japan",
          "Jordan",
          "Kazakhstan",
          "Kenya",
          "Kosovo",
          "Kuwait",
          "Kyrgyzstan",
          "Laos",
          "Latvia",
          "Lebanon",
          "Lesotho",
          "Liberia",
          "Libya",
          "Lithuania",
          "Luxembourg",
          "Madagascar",
          "Malawi",
          "Malaysia",
          "Maldives",
          "Mali",
          "Malta",
          "Mauritania",
          "Mauritius",
          "Mexico",
          "Moldova",
          "Mongolia",
          "Montenegro",
          "Morocco",
          "Mozambique",
          "Myanmar",
          "Namibia",
          "Nepal",
          "Netherlands",
          "New Zealand",
          "Nicaragua",
          "Niger",
          "Nigeria",
          "North Cyprus",
          "North Macedonia",
          "Norway",
          "Pakistan",
          "Palestinian Territories",
          "Panama",
          "Paraguay",
          "Peru",
          "Philippines",
          "Poland",
          "Portugal",
          "Romania",
          "Russia",
          "Rwanda",
          "Saudi Arabia",
          "Senegal",
          "Serbia",
          "Sierra Leone",
          "Singapore",
          "Slovakia",
          "Slovenia",
          "South Africa",
          "South Korea",
          "Spain",
          "Sri Lanka",
          "Swaziland",
          "Sweden",
          "Switzerland",
          "Taiwan Province of China",
          "Tajikistan",
          "Tanzania",
          "Thailand",
          "Togo",
          "Tunisia",
          "Turkey",
          "Turkmenistan",
          "Uganda",
          "Ukraine",
          "United Arab Emirates",
          "United Kingdom",
          "United States",
          "Uruguay",
          "Uzbekistan",
          "Venezuela",
          "Vietnam",
          "Yemen",
          "Zambia",
          "Zimbabwe",
          "Central and Eastern Europe",
          "Commonwealth of Independent States",
          "East Asia",
          "Latin America and Caribbean",
          "Middle East and North Africa",
          "North America and ANZ",
          "South Asia",
          "Southeast Asia",
          "Sub-Saharan Africa",
          "Western Europe"
         ],
         "marker": {
          "coloraxis": "coloraxis",
          "colors": [
           2.523,
           5.117,
           4.887,
           5.929,
           5.283,
           7.183,
           7.268,
           5.171,
           6.647000000000001,
           5.025,
           5.534,
           6.833999999999999,
           5.045,
           5.716,
           5.813,
           3.467,
           6.33,
           5.266,
           4.834,
           3.775,
           4.83,
           5.142,
           7.103,
           4.355,
           6.172000000000001,
           5.339,
           6.012,
           4.289,
           5.342,
           7.068999999999999,
           5.882000000000001,
           6.223000000000001,
           6.965,
           7.62,
           5.545,
           5.764,
           4.283,
           6.061,
           6.189,
           4.275,
           7.842,
           6.69,
           4.852,
           5.051,
           4.891,
           7.155,
           5.088,
           5.722999999999999,
           6.435,
           4.984,
           3.615,
           5.919,
           5.477,
           5.992,
           7.554,
           3.819,
           5.345,
           4.721,
           4.854,
           7.084999999999999,
           7.156999999999999,
           6.4830000000000005,
           5.306,
           6.309000000000001,
           5.94,
           4.395,
           6.152,
           4.607,
           6.372,
           6.105999999999999,
           5.744,
           5.03,
           6.032,
           4.584,
           3.512,
           4.625,
           5.41,
           6.255,
           7.324,
           4.208,
           3.6,
           5.384,
           5.198,
           4.723,
           6.602,
           4.227,
           6.049,
           6.317000000000001,
           5.766,
           5.677,
           5.581,
           4.918,
           4.794,
           4.426,
           4.574,
           5.269,
           7.464,
           7.277,
           5.972,
           5.074,
           4.759,
           5.536,
           5.101,
           7.392,
           4.934,
           4.517,
           6.180000000000001,
           5.653,
           5.839999999999999,
           5.88,
           6.1659999999999995,
           5.929,
           6.14,
           5.477,
           3.4149999999999996,
           6.494,
           5.132,
           6.078,
           3.849,
           6.377,
           6.331,
           6.461,
           4.956,
           5.845,
           6.491,
           4.325,
           4.308,
           7.363,
           7.571,
           6.584,
           5.466,
           3.623,
           5.984999999999999,
           4.107,
           4.596,
           4.948,
           5.066,
           4.636,
           4.875,
           6.561,
           7.064,
           6.951,
           6.431000000000001,
           6.179,
           4.892,
           5.411,
           3.658,
           4.073,
           3.1450000000000005,
           6.0230375659763515,
           5.499184043655874,
           5.838089036773564,
           5.985376960249152,
           5.399807789397764,
           7.130505295644244,
           4.632311484900139,
           5.467975507520342,
           4.587246203669941,
           6.9742682886518415
          ]
         },
         "name": "",
         "parents": [
          "South Asia",
          "Central and Eastern Europe",
          "Middle East and North Africa",
          "Latin America and Caribbean",
          "Commonwealth of Independent States",
          "North America and ANZ",
          "Western Europe",
          "Commonwealth of Independent States",
          "Middle East and North Africa",
          "South Asia",
          "Commonwealth of Independent States",
          "Western Europe",
          "Sub-Saharan Africa",
          "Latin America and Caribbean",
          "Central and Eastern Europe",
          "Sub-Saharan Africa",
          "Latin America and Caribbean",
          "Central and Eastern Europe",
          "Sub-Saharan Africa",
          "Sub-Saharan Africa",
          "Southeast Asia",
          "Sub-Saharan Africa",
          "North America and ANZ",
          "Sub-Saharan Africa",
          "Latin America and Caribbean",
          "East Asia",
          "Latin America and Caribbean",
          "Sub-Saharan Africa",
          "Sub-Saharan Africa",
          "Latin America and Caribbean",
          "Central and Eastern Europe",
          "Western Europe",
          "Central and Eastern Europe",
          "Western Europe",
          "Latin America and Caribbean",
          "Latin America and Caribbean",
          "Middle East and North Africa",
          "Latin America and Caribbean",
          "Central and Eastern Europe",
          "Sub-Saharan Africa",
          "Western Europe",
          "Western Europe",
          "Sub-Saharan Africa",
          "Sub-Saharan Africa",
          "Commonwealth of Independent States",
          "Western Europe",
          "Sub-Saharan Africa",
          "Western Europe",
          "Latin America and Caribbean",
          "Sub-Saharan Africa",
          "Latin America and Caribbean",
          "Latin America and Caribbean",
          "East Asia",
          "Central and Eastern Europe",
          "Western Europe",
          "South Asia",
          "Southeast Asia",
          "Middle East and North Africa",
          "Middle East and North Africa",
          "Western Europe",
          "Middle East and North Africa",
          "Western Europe",
          "Sub-Saharan Africa",
          "Latin America and Caribbean",
          "East Asia",
          "Middle East and North Africa",
          "Commonwealth of Independent States",
          "Sub-Saharan Africa",
          "Central and Eastern Europe",
          "Middle East and North Africa",
          "Commonwealth of Independent States",
          "Southeast Asia",
          "Central and Eastern Europe",
          "Middle East and North Africa",
          "Sub-Saharan Africa",
          "Sub-Saharan Africa",
          "Middle East and North Africa",
          "Central and Eastern Europe",
          "Western Europe",
          "Sub-Saharan Africa",
          "Sub-Saharan Africa",
          "Southeast Asia",
          "South Asia",
          "Sub-Saharan Africa",
          "Western Europe",
          "Sub-Saharan Africa",
          "Sub-Saharan Africa",
          "Latin America and Caribbean",
          "Commonwealth of Independent States",
          "East Asia",
          "Central and Eastern Europe",
          "Middle East and North Africa",
          "Sub-Saharan Africa",
          "Southeast Asia",
          "Sub-Saharan Africa",
          "South Asia",
          "Western Europe",
          "North America and ANZ",
          "Latin America and Caribbean",
          "Sub-Saharan Africa",
          "Sub-Saharan Africa",
          "Western Europe",
          "Central and Eastern Europe",
          "Western Europe",
          "South Asia",
          "Middle East and North Africa",
          "Latin America and Caribbean",
          "Latin America and Caribbean",
          "Latin America and Caribbean",
          "Southeast Asia",
          "Central and Eastern Europe",
          "Western Europe",
          "Central and Eastern Europe",
          "Commonwealth of Independent States",
          "Sub-Saharan Africa",
          "Middle East and North Africa",
          "Sub-Saharan Africa",
          "Central and Eastern Europe",
          "Sub-Saharan Africa",
          "Southeast Asia",
          "Central and Eastern Europe",
          "Central and Eastern Europe",
          "Sub-Saharan Africa",
          "East Asia",
          "Western Europe",
          "South Asia",
          "Sub-Saharan Africa",
          "Western Europe",
          "Western Europe",
          "East Asia",
          "Commonwealth of Independent States",
          "Sub-Saharan Africa",
          "Southeast Asia",
          "Sub-Saharan Africa",
          "Middle East and North Africa",
          "Middle East and North Africa",
          "Commonwealth of Independent States",
          "Sub-Saharan Africa",
          "Commonwealth of Independent States",
          "Middle East and North Africa",
          "Western Europe",
          "North America and ANZ",
          "Latin America and Caribbean",
          "Commonwealth of Independent States",
          "Latin America and Caribbean",
          "Southeast Asia",
          "Middle East and North Africa",
          "Sub-Saharan Africa",
          "Sub-Saharan Africa",
          "",
          "",
          "",
          "",
          "",
          "",
          "",
          "",
          "",
          ""
         ],
         "type": "sunburst",
         "values": [
          2.523,
          5.117,
          4.887,
          5.929,
          5.283,
          7.183,
          7.268,
          5.171,
          6.647,
          5.025,
          5.534,
          6.834,
          5.045,
          5.716,
          5.813,
          3.467,
          6.33,
          5.266,
          4.834,
          3.775,
          4.83,
          5.142,
          7.103,
          4.355,
          6.172,
          5.339,
          6.012,
          4.289,
          5.342,
          7.069,
          5.882,
          6.223,
          6.965,
          7.62,
          5.545,
          5.764,
          4.283,
          6.061,
          6.189,
          4.275,
          7.842,
          6.69,
          4.852,
          5.051,
          4.891,
          7.155,
          5.088,
          5.723,
          6.435,
          4.984,
          3.615,
          5.919,
          5.477,
          5.992,
          7.554,
          3.819,
          5.345,
          4.721,
          4.854,
          7.085,
          7.157,
          6.483,
          5.306,
          6.309,
          5.94,
          4.395,
          6.152,
          4.607,
          6.372,
          6.106,
          5.744,
          5.03,
          6.032,
          4.584,
          3.512,
          4.625,
          5.41,
          6.255,
          7.324,
          4.208,
          3.6,
          5.384,
          5.198,
          4.723,
          6.602,
          4.227,
          6.049,
          6.317,
          5.766,
          5.677,
          5.581,
          4.918,
          4.794,
          4.426,
          4.574,
          5.269,
          7.464,
          7.277,
          5.972,
          5.074,
          4.759,
          5.536,
          5.101,
          7.392,
          4.934,
          4.517,
          6.18,
          5.653,
          5.84,
          5.88,
          6.166,
          5.929,
          6.14,
          5.477,
          3.415,
          6.494,
          5.132,
          6.078,
          3.849,
          6.377,
          6.331,
          6.461,
          4.956,
          5.845,
          6.491,
          4.325,
          4.308,
          7.363,
          7.571,
          6.584,
          5.466,
          3.623,
          5.985,
          4.107,
          4.596,
          4.948,
          5.066,
          4.636,
          4.875,
          6.561,
          7.064,
          6.951,
          6.431,
          6.179,
          4.892,
          5.411,
          3.658,
          4.073,
          3.145,
          101.74100000000003,
          65.60400000000001,
          34.862,
          118.16099999999999,
          88.736,
          28.514000000000003,
          31.093,
          48.668,
          161.80100000000002,
          145.21300000000002
         ]
        }
       ],
       "layout": {
        "coloraxis": {
         "cmid": 5.739888416083106,
         "colorbar": {
          "title": {
           "text": "Ladder score"
          }
         },
         "colorscale": [
          [
           0,
           "rgb(103,0,31)"
          ],
          [
           0.1,
           "rgb(178,24,43)"
          ],
          [
           0.2,
           "rgb(214,96,77)"
          ],
          [
           0.3,
           "rgb(244,165,130)"
          ],
          [
           0.4,
           "rgb(253,219,199)"
          ],
          [
           0.5,
           "rgb(247,247,247)"
          ],
          [
           0.6,
           "rgb(209,229,240)"
          ],
          [
           0.7,
           "rgb(146,197,222)"
          ],
          [
           0.8,
           "rgb(67,147,195)"
          ],
          [
           0.9,
           "rgb(33,102,172)"
          ],
          [
           1,
           "rgb(5,48,97)"
          ]
         ]
        },
        "legend": {
         "tracegroupgap": 0
        },
        "margin": {
         "b": 10,
         "l": 10,
         "r": 10,
         "t": 10
        },
        "template": {
         "data": {
          "bar": [
           {
            "error_x": {
             "color": "#2a3f5f"
            },
            "error_y": {
             "color": "#2a3f5f"
            },
            "marker": {
             "line": {
              "color": "#E5ECF6",
              "width": 0.5
             }
            },
            "type": "bar"
           }
          ],
          "barpolar": [
           {
            "marker": {
             "line": {
              "color": "#E5ECF6",
              "width": 0.5
             }
            },
            "type": "barpolar"
           }
          ],
          "carpet": [
           {
            "aaxis": {
             "endlinecolor": "#2a3f5f",
             "gridcolor": "white",
             "linecolor": "white",
             "minorgridcolor": "white",
             "startlinecolor": "#2a3f5f"
            },
            "baxis": {
             "endlinecolor": "#2a3f5f",
             "gridcolor": "white",
             "linecolor": "white",
             "minorgridcolor": "white",
             "startlinecolor": "#2a3f5f"
            },
            "type": "carpet"
           }
          ],
          "choropleth": [
           {
            "colorbar": {
             "outlinewidth": 0,
             "ticks": ""
            },
            "type": "choropleth"
           }
          ],
          "contour": [
           {
            "colorbar": {
             "outlinewidth": 0,
             "ticks": ""
            },
            "colorscale": [
             [
              0,
              "#0d0887"
             ],
             [
              0.1111111111111111,
              "#46039f"
             ],
             [
              0.2222222222222222,
              "#7201a8"
             ],
             [
              0.3333333333333333,
              "#9c179e"
             ],
             [
              0.4444444444444444,
              "#bd3786"
             ],
             [
              0.5555555555555556,
              "#d8576b"
             ],
             [
              0.6666666666666666,
              "#ed7953"
             ],
             [
              0.7777777777777778,
              "#fb9f3a"
             ],
             [
              0.8888888888888888,
              "#fdca26"
             ],
             [
              1,
              "#f0f921"
             ]
            ],
            "type": "contour"
           }
          ],
          "contourcarpet": [
           {
            "colorbar": {
             "outlinewidth": 0,
             "ticks": ""
            },
            "type": "contourcarpet"
           }
          ],
          "heatmap": [
           {
            "colorbar": {
             "outlinewidth": 0,
             "ticks": ""
            },
            "colorscale": [
             [
              0,
              "#0d0887"
             ],
             [
              0.1111111111111111,
              "#46039f"
             ],
             [
              0.2222222222222222,
              "#7201a8"
             ],
             [
              0.3333333333333333,
              "#9c179e"
             ],
             [
              0.4444444444444444,
              "#bd3786"
             ],
             [
              0.5555555555555556,
              "#d8576b"
             ],
             [
              0.6666666666666666,
              "#ed7953"
             ],
             [
              0.7777777777777778,
              "#fb9f3a"
             ],
             [
              0.8888888888888888,
              "#fdca26"
             ],
             [
              1,
              "#f0f921"
             ]
            ],
            "type": "heatmap"
           }
          ],
          "heatmapgl": [
           {
            "colorbar": {
             "outlinewidth": 0,
             "ticks": ""
            },
            "colorscale": [
             [
              0,
              "#0d0887"
             ],
             [
              0.1111111111111111,
              "#46039f"
             ],
             [
              0.2222222222222222,
              "#7201a8"
             ],
             [
              0.3333333333333333,
              "#9c179e"
             ],
             [
              0.4444444444444444,
              "#bd3786"
             ],
             [
              0.5555555555555556,
              "#d8576b"
             ],
             [
              0.6666666666666666,
              "#ed7953"
             ],
             [
              0.7777777777777778,
              "#fb9f3a"
             ],
             [
              0.8888888888888888,
              "#fdca26"
             ],
             [
              1,
              "#f0f921"
             ]
            ],
            "type": "heatmapgl"
           }
          ],
          "histogram": [
           {
            "marker": {
             "colorbar": {
              "outlinewidth": 0,
              "ticks": ""
             }
            },
            "type": "histogram"
           }
          ],
          "histogram2d": [
           {
            "colorbar": {
             "outlinewidth": 0,
             "ticks": ""
            },
            "colorscale": [
             [
              0,
              "#0d0887"
             ],
             [
              0.1111111111111111,
              "#46039f"
             ],
             [
              0.2222222222222222,
              "#7201a8"
             ],
             [
              0.3333333333333333,
              "#9c179e"
             ],
             [
              0.4444444444444444,
              "#bd3786"
             ],
             [
              0.5555555555555556,
              "#d8576b"
             ],
             [
              0.6666666666666666,
              "#ed7953"
             ],
             [
              0.7777777777777778,
              "#fb9f3a"
             ],
             [
              0.8888888888888888,
              "#fdca26"
             ],
             [
              1,
              "#f0f921"
             ]
            ],
            "type": "histogram2d"
           }
          ],
          "histogram2dcontour": [
           {
            "colorbar": {
             "outlinewidth": 0,
             "ticks": ""
            },
            "colorscale": [
             [
              0,
              "#0d0887"
             ],
             [
              0.1111111111111111,
              "#46039f"
             ],
             [
              0.2222222222222222,
              "#7201a8"
             ],
             [
              0.3333333333333333,
              "#9c179e"
             ],
             [
              0.4444444444444444,
              "#bd3786"
             ],
             [
              0.5555555555555556,
              "#d8576b"
             ],
             [
              0.6666666666666666,
              "#ed7953"
             ],
             [
              0.7777777777777778,
              "#fb9f3a"
             ],
             [
              0.8888888888888888,
              "#fdca26"
             ],
             [
              1,
              "#f0f921"
             ]
            ],
            "type": "histogram2dcontour"
           }
          ],
          "mesh3d": [
           {
            "colorbar": {
             "outlinewidth": 0,
             "ticks": ""
            },
            "type": "mesh3d"
           }
          ],
          "parcoords": [
           {
            "line": {
             "colorbar": {
              "outlinewidth": 0,
              "ticks": ""
             }
            },
            "type": "parcoords"
           }
          ],
          "pie": [
           {
            "automargin": true,
            "type": "pie"
           }
          ],
          "scatter": [
           {
            "marker": {
             "colorbar": {
              "outlinewidth": 0,
              "ticks": ""
             }
            },
            "type": "scatter"
           }
          ],
          "scatter3d": [
           {
            "line": {
             "colorbar": {
              "outlinewidth": 0,
              "ticks": ""
             }
            },
            "marker": {
             "colorbar": {
              "outlinewidth": 0,
              "ticks": ""
             }
            },
            "type": "scatter3d"
           }
          ],
          "scattercarpet": [
           {
            "marker": {
             "colorbar": {
              "outlinewidth": 0,
              "ticks": ""
             }
            },
            "type": "scattercarpet"
           }
          ],
          "scattergeo": [
           {
            "marker": {
             "colorbar": {
              "outlinewidth": 0,
              "ticks": ""
             }
            },
            "type": "scattergeo"
           }
          ],
          "scattergl": [
           {
            "marker": {
             "colorbar": {
              "outlinewidth": 0,
              "ticks": ""
             }
            },
            "type": "scattergl"
           }
          ],
          "scattermapbox": [
           {
            "marker": {
             "colorbar": {
              "outlinewidth": 0,
              "ticks": ""
             }
            },
            "type": "scattermapbox"
           }
          ],
          "scatterpolar": [
           {
            "marker": {
             "colorbar": {
              "outlinewidth": 0,
              "ticks": ""
             }
            },
            "type": "scatterpolar"
           }
          ],
          "scatterpolargl": [
           {
            "marker": {
             "colorbar": {
              "outlinewidth": 0,
              "ticks": ""
             }
            },
            "type": "scatterpolargl"
           }
          ],
          "scatterternary": [
           {
            "marker": {
             "colorbar": {
              "outlinewidth": 0,
              "ticks": ""
             }
            },
            "type": "scatterternary"
           }
          ],
          "surface": [
           {
            "colorbar": {
             "outlinewidth": 0,
             "ticks": ""
            },
            "colorscale": [
             [
              0,
              "#0d0887"
             ],
             [
              0.1111111111111111,
              "#46039f"
             ],
             [
              0.2222222222222222,
              "#7201a8"
             ],
             [
              0.3333333333333333,
              "#9c179e"
             ],
             [
              0.4444444444444444,
              "#bd3786"
             ],
             [
              0.5555555555555556,
              "#d8576b"
             ],
             [
              0.6666666666666666,
              "#ed7953"
             ],
             [
              0.7777777777777778,
              "#fb9f3a"
             ],
             [
              0.8888888888888888,
              "#fdca26"
             ],
             [
              1,
              "#f0f921"
             ]
            ],
            "type": "surface"
           }
          ],
          "table": [
           {
            "cells": {
             "fill": {
              "color": "#EBF0F8"
             },
             "line": {
              "color": "white"
             }
            },
            "header": {
             "fill": {
              "color": "#C8D4E3"
             },
             "line": {
              "color": "white"
             }
            },
            "type": "table"
           }
          ]
         },
         "layout": {
          "annotationdefaults": {
           "arrowcolor": "#2a3f5f",
           "arrowhead": 0,
           "arrowwidth": 1
          },
          "autotypenumbers": "strict",
          "coloraxis": {
           "colorbar": {
            "outlinewidth": 0,
            "ticks": ""
           }
          },
          "colorscale": {
           "diverging": [
            [
             0,
             "#8e0152"
            ],
            [
             0.1,
             "#c51b7d"
            ],
            [
             0.2,
             "#de77ae"
            ],
            [
             0.3,
             "#f1b6da"
            ],
            [
             0.4,
             "#fde0ef"
            ],
            [
             0.5,
             "#f7f7f7"
            ],
            [
             0.6,
             "#e6f5d0"
            ],
            [
             0.7,
             "#b8e186"
            ],
            [
             0.8,
             "#7fbc41"
            ],
            [
             0.9,
             "#4d9221"
            ],
            [
             1,
             "#276419"
            ]
           ],
           "sequential": [
            [
             0,
             "#0d0887"
            ],
            [
             0.1111111111111111,
             "#46039f"
            ],
            [
             0.2222222222222222,
             "#7201a8"
            ],
            [
             0.3333333333333333,
             "#9c179e"
            ],
            [
             0.4444444444444444,
             "#bd3786"
            ],
            [
             0.5555555555555556,
             "#d8576b"
            ],
            [
             0.6666666666666666,
             "#ed7953"
            ],
            [
             0.7777777777777778,
             "#fb9f3a"
            ],
            [
             0.8888888888888888,
             "#fdca26"
            ],
            [
             1,
             "#f0f921"
            ]
           ],
           "sequentialminus": [
            [
             0,
             "#0d0887"
            ],
            [
             0.1111111111111111,
             "#46039f"
            ],
            [
             0.2222222222222222,
             "#7201a8"
            ],
            [
             0.3333333333333333,
             "#9c179e"
            ],
            [
             0.4444444444444444,
             "#bd3786"
            ],
            [
             0.5555555555555556,
             "#d8576b"
            ],
            [
             0.6666666666666666,
             "#ed7953"
            ],
            [
             0.7777777777777778,
             "#fb9f3a"
            ],
            [
             0.8888888888888888,
             "#fdca26"
            ],
            [
             1,
             "#f0f921"
            ]
           ]
          },
          "colorway": [
           "#636efa",
           "#EF553B",
           "#00cc96",
           "#ab63fa",
           "#FFA15A",
           "#19d3f3",
           "#FF6692",
           "#B6E880",
           "#FF97FF",
           "#FECB52"
          ],
          "font": {
           "color": "#2a3f5f"
          },
          "geo": {
           "bgcolor": "white",
           "lakecolor": "white",
           "landcolor": "#E5ECF6",
           "showlakes": true,
           "showland": true,
           "subunitcolor": "white"
          },
          "hoverlabel": {
           "align": "left"
          },
          "hovermode": "closest",
          "mapbox": {
           "style": "light"
          },
          "paper_bgcolor": "white",
          "plot_bgcolor": "#E5ECF6",
          "polar": {
           "angularaxis": {
            "gridcolor": "white",
            "linecolor": "white",
            "ticks": ""
           },
           "bgcolor": "#E5ECF6",
           "radialaxis": {
            "gridcolor": "white",
            "linecolor": "white",
            "ticks": ""
           }
          },
          "scene": {
           "xaxis": {
            "backgroundcolor": "#E5ECF6",
            "gridcolor": "white",
            "gridwidth": 2,
            "linecolor": "white",
            "showbackground": true,
            "ticks": "",
            "zerolinecolor": "white"
           },
           "yaxis": {
            "backgroundcolor": "#E5ECF6",
            "gridcolor": "white",
            "gridwidth": 2,
            "linecolor": "white",
            "showbackground": true,
            "ticks": "",
            "zerolinecolor": "white"
           },
           "zaxis": {
            "backgroundcolor": "#E5ECF6",
            "gridcolor": "white",
            "gridwidth": 2,
            "linecolor": "white",
            "showbackground": true,
            "ticks": "",
            "zerolinecolor": "white"
           }
          },
          "shapedefaults": {
           "line": {
            "color": "#2a3f5f"
           }
          },
          "ternary": {
           "aaxis": {
            "gridcolor": "white",
            "linecolor": "white",
            "ticks": ""
           },
           "baxis": {
            "gridcolor": "white",
            "linecolor": "white",
            "ticks": ""
           },
           "bgcolor": "#E5ECF6",
           "caxis": {
            "gridcolor": "white",
            "linecolor": "white",
            "ticks": ""
           }
          },
          "title": {
           "x": 0.05
          },
          "xaxis": {
           "automargin": true,
           "gridcolor": "white",
           "linecolor": "white",
           "ticks": "",
           "title": {
            "standoff": 15
           },
           "zerolinecolor": "white",
           "zerolinewidth": 2
          },
          "yaxis": {
           "automargin": true,
           "gridcolor": "white",
           "linecolor": "white",
           "ticks": "",
           "title": {
            "standoff": 15
           },
           "zerolinecolor": "white",
           "zerolinewidth": 2
          }
         }
        }
       }
      },
      "text/html": [
       "<div>                            <div id=\"1248b1d1-85d1-478c-894f-0e656e1fd7e6\" class=\"plotly-graph-div\" style=\"height:525px; width:100%;\"></div>            <script type=\"text/javascript\">                require([\"plotly\"], function(Plotly) {                    window.PLOTLYENV=window.PLOTLYENV || {};                                    if (document.getElementById(\"1248b1d1-85d1-478c-894f-0e656e1fd7e6\")) {                    Plotly.newPlot(                        \"1248b1d1-85d1-478c-894f-0e656e1fd7e6\",                        [{\"branchvalues\": \"total\", \"customdata\": [[2.523], [5.117], [4.887], [5.929], [5.283], [7.183], [7.268], [5.171], [6.647000000000001], [5.025], [5.534], [6.833999999999999], [5.045], [5.716], [5.813], [3.467], [6.33], [5.266], [4.834], [3.775], [4.83], [5.142], [7.103], [4.355], [6.172000000000001], [5.339], [6.012], [4.289], [5.342], [7.068999999999999], [5.882000000000001], [6.223000000000001], [6.965], [7.62], [5.545], [5.764], [4.283], [6.061], [6.189], [4.275], [7.842], [6.69], [4.852], [5.051], [4.891], [7.155], [5.088], [5.722999999999999], [6.435], [4.984], [3.615], [5.919], [5.477], [5.992], [7.554], [3.819], [5.345], [4.721], [4.854], [7.084999999999999], [7.156999999999999], [6.4830000000000005], [5.306], [6.309000000000001], [5.94], [4.395], [6.152], [4.607], [6.372], [6.105999999999999], [5.744], [5.03], [6.032], [4.584], [3.512], [4.625], [5.41], [6.255], [7.324], [4.208], [3.6], [5.384], [5.198], [4.723], [6.602], [4.227], [6.049], [6.317000000000001], [5.766], [5.677], [5.581], [4.918], [4.794], [4.426], [4.574], [5.269], [7.464], [7.277], [5.972], [5.074], [4.759], [5.536], [5.101], [7.392], [4.934], [4.517], [6.180000000000001], [5.653], [5.839999999999999], [5.88], [6.1659999999999995], [5.929], [6.14], [5.477], [3.4149999999999996], [6.494], [5.132], [6.078], [3.849], [6.377], [6.331], [6.461], [4.956], [5.845], [6.491], [4.325], [4.308], [7.363], [7.571], [6.584], [5.466], [3.623], [5.984999999999999], [4.107], [4.596], [4.948], [5.066], [4.636], [4.875], [6.561], [7.064], [6.951], [6.431000000000001], [6.179], [4.892], [5.411], [3.658], [4.073], [3.1450000000000005], [6.0230375659763515], [5.499184043655874], [5.838089036773564], [5.985376960249152], [5.399807789397764], [7.130505295644244], [4.632311484900139], [5.467975507520342], [4.587246203669941], [6.9742682886518415]], \"domain\": {\"x\": [0.0, 1.0], \"y\": [0.0, 1.0]}, \"hovertemplate\": \"labels=%{label}<br>Ladder score_sum=%{value}<br>parent=%{parent}<br>id=%{id}<br>Ladder score=%{color}<extra></extra>\", \"ids\": [\"South Asia/Afghanistan\", \"Central and Eastern Europe/Albania\", \"Middle East and North Africa/Algeria\", \"Latin America and Caribbean/Argentina\", \"Commonwealth of Independent States/Armenia\", \"North America and ANZ/Australia\", \"Western Europe/Austria\", \"Commonwealth of Independent States/Azerbaijan\", \"Middle East and North Africa/Bahrain\", \"South Asia/Bangladesh\", \"Commonwealth of Independent States/Belarus\", \"Western Europe/Belgium\", \"Sub-Saharan Africa/Benin\", \"Latin America and Caribbean/Bolivia\", \"Central and Eastern Europe/Bosnia and Herzegovina\", \"Sub-Saharan Africa/Botswana\", \"Latin America and Caribbean/Brazil\", \"Central and Eastern Europe/Bulgaria\", \"Sub-Saharan Africa/Burkina Faso\", \"Sub-Saharan Africa/Burundi\", \"Southeast Asia/Cambodia\", \"Sub-Saharan Africa/Cameroon\", \"North America and ANZ/Canada\", \"Sub-Saharan Africa/Chad\", \"Latin America and Caribbean/Chile\", \"East Asia/China\", \"Latin America and Caribbean/Colombia\", \"Sub-Saharan Africa/Comoros\", \"Sub-Saharan Africa/Congo (Brazzaville)\", \"Latin America and Caribbean/Costa Rica\", \"Central and Eastern Europe/Croatia\", \"Western Europe/Cyprus\", \"Central and Eastern Europe/Czech Republic\", \"Western Europe/Denmark\", \"Latin America and Caribbean/Dominican Republic\", \"Latin America and Caribbean/Ecuador\", \"Middle East and North Africa/Egypt\", \"Latin America and Caribbean/El Salvador\", \"Central and Eastern Europe/Estonia\", \"Sub-Saharan Africa/Ethiopia\", \"Western Europe/Finland\", \"Western Europe/France\", \"Sub-Saharan Africa/Gabon\", \"Sub-Saharan Africa/Gambia\", \"Commonwealth of Independent States/Georgia\", \"Western Europe/Germany\", \"Sub-Saharan Africa/Ghana\", \"Western Europe/Greece\", \"Latin America and Caribbean/Guatemala\", \"Sub-Saharan Africa/Guinea\", \"Latin America and Caribbean/Haiti\", \"Latin America and Caribbean/Honduras\", \"East Asia/Hong Kong S.A.R. of China\", \"Central and Eastern Europe/Hungary\", \"Western Europe/Iceland\", \"South Asia/India\", \"Southeast Asia/Indonesia\", \"Middle East and North Africa/Iran\", \"Middle East and North Africa/Iraq\", \"Western Europe/Ireland\", \"Middle East and North Africa/Israel\", \"Western Europe/Italy\", \"Sub-Saharan Africa/Ivory Coast\", \"Latin America and Caribbean/Jamaica\", \"East Asia/Japan\", \"Middle East and North Africa/Jordan\", \"Commonwealth of Independent States/Kazakhstan\", \"Sub-Saharan Africa/Kenya\", \"Central and Eastern Europe/Kosovo\", \"Middle East and North Africa/Kuwait\", \"Commonwealth of Independent States/Kyrgyzstan\", \"Southeast Asia/Laos\", \"Central and Eastern Europe/Latvia\", \"Middle East and North Africa/Lebanon\", \"Sub-Saharan Africa/Lesotho\", \"Sub-Saharan Africa/Liberia\", \"Middle East and North Africa/Libya\", \"Central and Eastern Europe/Lithuania\", \"Western Europe/Luxembourg\", \"Sub-Saharan Africa/Madagascar\", \"Sub-Saharan Africa/Malawi\", \"Southeast Asia/Malaysia\", \"South Asia/Maldives\", \"Sub-Saharan Africa/Mali\", \"Western Europe/Malta\", \"Sub-Saharan Africa/Mauritania\", \"Sub-Saharan Africa/Mauritius\", \"Latin America and Caribbean/Mexico\", \"Commonwealth of Independent States/Moldova\", \"East Asia/Mongolia\", \"Central and Eastern Europe/Montenegro\", \"Middle East and North Africa/Morocco\", \"Sub-Saharan Africa/Mozambique\", \"Southeast Asia/Myanmar\", \"Sub-Saharan Africa/Namibia\", \"South Asia/Nepal\", \"Western Europe/Netherlands\", \"North America and ANZ/New Zealand\", \"Latin America and Caribbean/Nicaragua\", \"Sub-Saharan Africa/Niger\", \"Sub-Saharan Africa/Nigeria\", \"Western Europe/North Cyprus\", \"Central and Eastern Europe/North Macedonia\", \"Western Europe/Norway\", \"South Asia/Pakistan\", \"Middle East and North Africa/Palestinian Territories\", \"Latin America and Caribbean/Panama\", \"Latin America and Caribbean/Paraguay\", \"Latin America and Caribbean/Peru\", \"Southeast Asia/Philippines\", \"Central and Eastern Europe/Poland\", \"Western Europe/Portugal\", \"Central and Eastern Europe/Romania\", \"Commonwealth of Independent States/Russia\", \"Sub-Saharan Africa/Rwanda\", \"Middle East and North Africa/Saudi Arabia\", \"Sub-Saharan Africa/Senegal\", \"Central and Eastern Europe/Serbia\", \"Sub-Saharan Africa/Sierra Leone\", \"Southeast Asia/Singapore\", \"Central and Eastern Europe/Slovakia\", \"Central and Eastern Europe/Slovenia\", \"Sub-Saharan Africa/South Africa\", \"East Asia/South Korea\", \"Western Europe/Spain\", \"South Asia/Sri Lanka\", \"Sub-Saharan Africa/Swaziland\", \"Western Europe/Sweden\", \"Western Europe/Switzerland\", \"East Asia/Taiwan Province of China\", \"Commonwealth of Independent States/Tajikistan\", \"Sub-Saharan Africa/Tanzania\", \"Southeast Asia/Thailand\", \"Sub-Saharan Africa/Togo\", \"Middle East and North Africa/Tunisia\", \"Middle East and North Africa/Turkey\", \"Commonwealth of Independent States/Turkmenistan\", \"Sub-Saharan Africa/Uganda\", \"Commonwealth of Independent States/Ukraine\", \"Middle East and North Africa/United Arab Emirates\", \"Western Europe/United Kingdom\", \"North America and ANZ/United States\", \"Latin America and Caribbean/Uruguay\", \"Commonwealth of Independent States/Uzbekistan\", \"Latin America and Caribbean/Venezuela\", \"Southeast Asia/Vietnam\", \"Middle East and North Africa/Yemen\", \"Sub-Saharan Africa/Zambia\", \"Sub-Saharan Africa/Zimbabwe\", \"Central and Eastern Europe\", \"Commonwealth of Independent States\", \"East Asia\", \"Latin America and Caribbean\", \"Middle East and North Africa\", \"North America and ANZ\", \"South Asia\", \"Southeast Asia\", \"Sub-Saharan Africa\", \"Western Europe\"], \"labels\": [\"Afghanistan\", \"Albania\", \"Algeria\", \"Argentina\", \"Armenia\", \"Australia\", \"Austria\", \"Azerbaijan\", \"Bahrain\", \"Bangladesh\", \"Belarus\", \"Belgium\", \"Benin\", \"Bolivia\", \"Bosnia and Herzegovina\", \"Botswana\", \"Brazil\", \"Bulgaria\", \"Burkina Faso\", \"Burundi\", \"Cambodia\", \"Cameroon\", \"Canada\", \"Chad\", \"Chile\", \"China\", \"Colombia\", \"Comoros\", \"Congo (Brazzaville)\", \"Costa Rica\", \"Croatia\", \"Cyprus\", \"Czech Republic\", \"Denmark\", \"Dominican Republic\", \"Ecuador\", \"Egypt\", \"El Salvador\", \"Estonia\", \"Ethiopia\", \"Finland\", \"France\", \"Gabon\", \"Gambia\", \"Georgia\", \"Germany\", \"Ghana\", \"Greece\", \"Guatemala\", \"Guinea\", \"Haiti\", \"Honduras\", \"Hong Kong S.A.R. of China\", \"Hungary\", \"Iceland\", \"India\", \"Indonesia\", \"Iran\", \"Iraq\", \"Ireland\", \"Israel\", \"Italy\", \"Ivory Coast\", \"Jamaica\", \"Japan\", \"Jordan\", \"Kazakhstan\", \"Kenya\", \"Kosovo\", \"Kuwait\", \"Kyrgyzstan\", \"Laos\", \"Latvia\", \"Lebanon\", \"Lesotho\", \"Liberia\", \"Libya\", \"Lithuania\", \"Luxembourg\", \"Madagascar\", \"Malawi\", \"Malaysia\", \"Maldives\", \"Mali\", \"Malta\", \"Mauritania\", \"Mauritius\", \"Mexico\", \"Moldova\", \"Mongolia\", \"Montenegro\", \"Morocco\", \"Mozambique\", \"Myanmar\", \"Namibia\", \"Nepal\", \"Netherlands\", \"New Zealand\", \"Nicaragua\", \"Niger\", \"Nigeria\", \"North Cyprus\", \"North Macedonia\", \"Norway\", \"Pakistan\", \"Palestinian Territories\", \"Panama\", \"Paraguay\", \"Peru\", \"Philippines\", \"Poland\", \"Portugal\", \"Romania\", \"Russia\", \"Rwanda\", \"Saudi Arabia\", \"Senegal\", \"Serbia\", \"Sierra Leone\", \"Singapore\", \"Slovakia\", \"Slovenia\", \"South Africa\", \"South Korea\", \"Spain\", \"Sri Lanka\", \"Swaziland\", \"Sweden\", \"Switzerland\", \"Taiwan Province of China\", \"Tajikistan\", \"Tanzania\", \"Thailand\", \"Togo\", \"Tunisia\", \"Turkey\", \"Turkmenistan\", \"Uganda\", \"Ukraine\", \"United Arab Emirates\", \"United Kingdom\", \"United States\", \"Uruguay\", \"Uzbekistan\", \"Venezuela\", \"Vietnam\", \"Yemen\", \"Zambia\", \"Zimbabwe\", \"Central and Eastern Europe\", \"Commonwealth of Independent States\", \"East Asia\", \"Latin America and Caribbean\", \"Middle East and North Africa\", \"North America and ANZ\", \"South Asia\", \"Southeast Asia\", \"Sub-Saharan Africa\", \"Western Europe\"], \"marker\": {\"coloraxis\": \"coloraxis\", \"colors\": [2.523, 5.117, 4.887, 5.929, 5.283, 7.183, 7.268, 5.171, 6.647000000000001, 5.025, 5.534, 6.833999999999999, 5.045, 5.716, 5.813, 3.467, 6.33, 5.266, 4.834, 3.775, 4.83, 5.142, 7.103, 4.355, 6.172000000000001, 5.339, 6.012, 4.289, 5.342, 7.068999999999999, 5.882000000000001, 6.223000000000001, 6.965, 7.62, 5.545, 5.764, 4.283, 6.061, 6.189, 4.275, 7.842, 6.69, 4.852, 5.051, 4.891, 7.155, 5.088, 5.722999999999999, 6.435, 4.984, 3.615, 5.919, 5.477, 5.992, 7.554, 3.819, 5.345, 4.721, 4.854, 7.084999999999999, 7.156999999999999, 6.4830000000000005, 5.306, 6.309000000000001, 5.94, 4.395, 6.152, 4.607, 6.372, 6.105999999999999, 5.744, 5.03, 6.032, 4.584, 3.512, 4.625, 5.41, 6.255, 7.324, 4.208, 3.6, 5.384, 5.198, 4.723, 6.602, 4.227, 6.049, 6.317000000000001, 5.766, 5.677, 5.581, 4.918, 4.794, 4.426, 4.574, 5.269, 7.464, 7.277, 5.972, 5.074, 4.759, 5.536, 5.101, 7.392, 4.934, 4.517, 6.180000000000001, 5.653, 5.839999999999999, 5.88, 6.1659999999999995, 5.929, 6.14, 5.477, 3.4149999999999996, 6.494, 5.132, 6.078, 3.849, 6.377, 6.331, 6.461, 4.956, 5.845, 6.491, 4.325, 4.308, 7.363, 7.571, 6.584, 5.466, 3.623, 5.984999999999999, 4.107, 4.596, 4.948, 5.066, 4.636, 4.875, 6.561, 7.064, 6.951, 6.431000000000001, 6.179, 4.892, 5.411, 3.658, 4.073, 3.1450000000000005, 6.0230375659763515, 5.499184043655874, 5.838089036773564, 5.985376960249152, 5.399807789397764, 7.130505295644244, 4.632311484900139, 5.467975507520342, 4.587246203669941, 6.9742682886518415]}, \"name\": \"\", \"parents\": [\"South Asia\", \"Central and Eastern Europe\", \"Middle East and North Africa\", \"Latin America and Caribbean\", \"Commonwealth of Independent States\", \"North America and ANZ\", \"Western Europe\", \"Commonwealth of Independent States\", \"Middle East and North Africa\", \"South Asia\", \"Commonwealth of Independent States\", \"Western Europe\", \"Sub-Saharan Africa\", \"Latin America and Caribbean\", \"Central and Eastern Europe\", \"Sub-Saharan Africa\", \"Latin America and Caribbean\", \"Central and Eastern Europe\", \"Sub-Saharan Africa\", \"Sub-Saharan Africa\", \"Southeast Asia\", \"Sub-Saharan Africa\", \"North America and ANZ\", \"Sub-Saharan Africa\", \"Latin America and Caribbean\", \"East Asia\", \"Latin America and Caribbean\", \"Sub-Saharan Africa\", \"Sub-Saharan Africa\", \"Latin America and Caribbean\", \"Central and Eastern Europe\", \"Western Europe\", \"Central and Eastern Europe\", \"Western Europe\", \"Latin America and Caribbean\", \"Latin America and Caribbean\", \"Middle East and North Africa\", \"Latin America and Caribbean\", \"Central and Eastern Europe\", \"Sub-Saharan Africa\", \"Western Europe\", \"Western Europe\", \"Sub-Saharan Africa\", \"Sub-Saharan Africa\", \"Commonwealth of Independent States\", \"Western Europe\", \"Sub-Saharan Africa\", \"Western Europe\", \"Latin America and Caribbean\", \"Sub-Saharan Africa\", \"Latin America and Caribbean\", \"Latin America and Caribbean\", \"East Asia\", \"Central and Eastern Europe\", \"Western Europe\", \"South Asia\", \"Southeast Asia\", \"Middle East and North Africa\", \"Middle East and North Africa\", \"Western Europe\", \"Middle East and North Africa\", \"Western Europe\", \"Sub-Saharan Africa\", \"Latin America and Caribbean\", \"East Asia\", \"Middle East and North Africa\", \"Commonwealth of Independent States\", \"Sub-Saharan Africa\", \"Central and Eastern Europe\", \"Middle East and North Africa\", \"Commonwealth of Independent States\", \"Southeast Asia\", \"Central and Eastern Europe\", \"Middle East and North Africa\", \"Sub-Saharan Africa\", \"Sub-Saharan Africa\", \"Middle East and North Africa\", \"Central and Eastern Europe\", \"Western Europe\", \"Sub-Saharan Africa\", \"Sub-Saharan Africa\", \"Southeast Asia\", \"South Asia\", \"Sub-Saharan Africa\", \"Western Europe\", \"Sub-Saharan Africa\", \"Sub-Saharan Africa\", \"Latin America and Caribbean\", \"Commonwealth of Independent States\", \"East Asia\", \"Central and Eastern Europe\", \"Middle East and North Africa\", \"Sub-Saharan Africa\", \"Southeast Asia\", \"Sub-Saharan Africa\", \"South Asia\", \"Western Europe\", \"North America and ANZ\", \"Latin America and Caribbean\", \"Sub-Saharan Africa\", \"Sub-Saharan Africa\", \"Western Europe\", \"Central and Eastern Europe\", \"Western Europe\", \"South Asia\", \"Middle East and North Africa\", \"Latin America and Caribbean\", \"Latin America and Caribbean\", \"Latin America and Caribbean\", \"Southeast Asia\", \"Central and Eastern Europe\", \"Western Europe\", \"Central and Eastern Europe\", \"Commonwealth of Independent States\", \"Sub-Saharan Africa\", \"Middle East and North Africa\", \"Sub-Saharan Africa\", \"Central and Eastern Europe\", \"Sub-Saharan Africa\", \"Southeast Asia\", \"Central and Eastern Europe\", \"Central and Eastern Europe\", \"Sub-Saharan Africa\", \"East Asia\", \"Western Europe\", \"South Asia\", \"Sub-Saharan Africa\", \"Western Europe\", \"Western Europe\", \"East Asia\", \"Commonwealth of Independent States\", \"Sub-Saharan Africa\", \"Southeast Asia\", \"Sub-Saharan Africa\", \"Middle East and North Africa\", \"Middle East and North Africa\", \"Commonwealth of Independent States\", \"Sub-Saharan Africa\", \"Commonwealth of Independent States\", \"Middle East and North Africa\", \"Western Europe\", \"North America and ANZ\", \"Latin America and Caribbean\", \"Commonwealth of Independent States\", \"Latin America and Caribbean\", \"Southeast Asia\", \"Middle East and North Africa\", \"Sub-Saharan Africa\", \"Sub-Saharan Africa\", \"\", \"\", \"\", \"\", \"\", \"\", \"\", \"\", \"\", \"\"], \"type\": \"sunburst\", \"values\": [2.523, 5.117, 4.887, 5.929, 5.283, 7.183, 7.268, 5.171, 6.647, 5.025, 5.534, 6.834, 5.045, 5.716, 5.813, 3.467, 6.33, 5.266, 4.834, 3.775, 4.83, 5.142, 7.103, 4.355, 6.172, 5.339, 6.012, 4.289, 5.342, 7.069, 5.882, 6.223, 6.965, 7.62, 5.545, 5.764, 4.283, 6.061, 6.189, 4.275, 7.842, 6.69, 4.852, 5.051, 4.891, 7.155, 5.088, 5.723, 6.435, 4.984, 3.615, 5.919, 5.477, 5.992, 7.554, 3.819, 5.345, 4.721, 4.854, 7.085, 7.157, 6.483, 5.306, 6.309, 5.94, 4.395, 6.152, 4.607, 6.372, 6.106, 5.744, 5.03, 6.032, 4.584, 3.512, 4.625, 5.41, 6.255, 7.324, 4.208, 3.6, 5.384, 5.198, 4.723, 6.602, 4.227, 6.049, 6.317, 5.766, 5.677, 5.581, 4.918, 4.794, 4.426, 4.574, 5.269, 7.464, 7.277, 5.972, 5.074, 4.759, 5.536, 5.101, 7.392, 4.934, 4.517, 6.18, 5.653, 5.84, 5.88, 6.166, 5.929, 6.14, 5.477, 3.415, 6.494, 5.132, 6.078, 3.849, 6.377, 6.331, 6.461, 4.956, 5.845, 6.491, 4.325, 4.308, 7.363, 7.571, 6.584, 5.466, 3.623, 5.985, 4.107, 4.596, 4.948, 5.066, 4.636, 4.875, 6.561, 7.064, 6.951, 6.431, 6.179, 4.892, 5.411, 3.658, 4.073, 3.145, 101.74100000000003, 65.60400000000001, 34.862, 118.16099999999999, 88.736, 28.514000000000003, 31.093, 48.668, 161.80100000000002, 145.21300000000002]}],                        {\"coloraxis\": {\"cmid\": 5.739888416083106, \"colorbar\": {\"title\": {\"text\": \"Ladder score\"}}, \"colorscale\": [[0.0, \"rgb(103,0,31)\"], [0.1, \"rgb(178,24,43)\"], [0.2, \"rgb(214,96,77)\"], [0.3, \"rgb(244,165,130)\"], [0.4, \"rgb(253,219,199)\"], [0.5, \"rgb(247,247,247)\"], [0.6, \"rgb(209,229,240)\"], [0.7, \"rgb(146,197,222)\"], [0.8, \"rgb(67,147,195)\"], [0.9, \"rgb(33,102,172)\"], [1.0, \"rgb(5,48,97)\"]]}, \"legend\": {\"tracegroupgap\": 0}, \"margin\": {\"b\": 10, \"l\": 10, \"r\": 10, \"t\": 10}, \"template\": {\"data\": {\"bar\": [{\"error_x\": {\"color\": \"#2a3f5f\"}, \"error_y\": {\"color\": \"#2a3f5f\"}, \"marker\": {\"line\": {\"color\": \"#E5ECF6\", \"width\": 0.5}}, \"type\": \"bar\"}], \"barpolar\": [{\"marker\": {\"line\": {\"color\": \"#E5ECF6\", \"width\": 0.5}}, \"type\": \"barpolar\"}], \"carpet\": [{\"aaxis\": {\"endlinecolor\": \"#2a3f5f\", \"gridcolor\": \"white\", \"linecolor\": \"white\", \"minorgridcolor\": \"white\", \"startlinecolor\": \"#2a3f5f\"}, \"baxis\": {\"endlinecolor\": \"#2a3f5f\", \"gridcolor\": \"white\", \"linecolor\": \"white\", \"minorgridcolor\": \"white\", \"startlinecolor\": \"#2a3f5f\"}, \"type\": \"carpet\"}], \"choropleth\": [{\"colorbar\": {\"outlinewidth\": 0, \"ticks\": \"\"}, \"type\": \"choropleth\"}], \"contour\": [{\"colorbar\": {\"outlinewidth\": 0, \"ticks\": \"\"}, \"colorscale\": [[0.0, \"#0d0887\"], [0.1111111111111111, \"#46039f\"], [0.2222222222222222, \"#7201a8\"], [0.3333333333333333, \"#9c179e\"], [0.4444444444444444, \"#bd3786\"], [0.5555555555555556, \"#d8576b\"], [0.6666666666666666, \"#ed7953\"], [0.7777777777777778, \"#fb9f3a\"], [0.8888888888888888, \"#fdca26\"], [1.0, \"#f0f921\"]], \"type\": \"contour\"}], \"contourcarpet\": [{\"colorbar\": {\"outlinewidth\": 0, \"ticks\": \"\"}, \"type\": \"contourcarpet\"}], \"heatmap\": [{\"colorbar\": {\"outlinewidth\": 0, \"ticks\": \"\"}, \"colorscale\": [[0.0, \"#0d0887\"], [0.1111111111111111, \"#46039f\"], [0.2222222222222222, \"#7201a8\"], [0.3333333333333333, \"#9c179e\"], [0.4444444444444444, \"#bd3786\"], [0.5555555555555556, \"#d8576b\"], [0.6666666666666666, \"#ed7953\"], [0.7777777777777778, \"#fb9f3a\"], [0.8888888888888888, \"#fdca26\"], [1.0, \"#f0f921\"]], \"type\": \"heatmap\"}], \"heatmapgl\": [{\"colorbar\": {\"outlinewidth\": 0, \"ticks\": \"\"}, \"colorscale\": [[0.0, \"#0d0887\"], [0.1111111111111111, \"#46039f\"], [0.2222222222222222, \"#7201a8\"], [0.3333333333333333, \"#9c179e\"], [0.4444444444444444, \"#bd3786\"], [0.5555555555555556, \"#d8576b\"], [0.6666666666666666, \"#ed7953\"], [0.7777777777777778, \"#fb9f3a\"], [0.8888888888888888, \"#fdca26\"], [1.0, \"#f0f921\"]], \"type\": \"heatmapgl\"}], \"histogram\": [{\"marker\": {\"colorbar\": {\"outlinewidth\": 0, \"ticks\": \"\"}}, \"type\": \"histogram\"}], \"histogram2d\": [{\"colorbar\": {\"outlinewidth\": 0, \"ticks\": \"\"}, \"colorscale\": [[0.0, \"#0d0887\"], [0.1111111111111111, \"#46039f\"], [0.2222222222222222, \"#7201a8\"], [0.3333333333333333, \"#9c179e\"], [0.4444444444444444, \"#bd3786\"], [0.5555555555555556, \"#d8576b\"], [0.6666666666666666, \"#ed7953\"], [0.7777777777777778, \"#fb9f3a\"], [0.8888888888888888, \"#fdca26\"], [1.0, \"#f0f921\"]], \"type\": \"histogram2d\"}], \"histogram2dcontour\": [{\"colorbar\": {\"outlinewidth\": 0, \"ticks\": \"\"}, \"colorscale\": [[0.0, \"#0d0887\"], [0.1111111111111111, \"#46039f\"], [0.2222222222222222, \"#7201a8\"], [0.3333333333333333, \"#9c179e\"], [0.4444444444444444, \"#bd3786\"], [0.5555555555555556, \"#d8576b\"], [0.6666666666666666, \"#ed7953\"], [0.7777777777777778, \"#fb9f3a\"], [0.8888888888888888, \"#fdca26\"], [1.0, \"#f0f921\"]], \"type\": \"histogram2dcontour\"}], \"mesh3d\": [{\"colorbar\": {\"outlinewidth\": 0, \"ticks\": \"\"}, \"type\": \"mesh3d\"}], \"parcoords\": [{\"line\": {\"colorbar\": {\"outlinewidth\": 0, \"ticks\": \"\"}}, \"type\": \"parcoords\"}], \"pie\": [{\"automargin\": true, \"type\": \"pie\"}], \"scatter\": [{\"marker\": {\"colorbar\": {\"outlinewidth\": 0, \"ticks\": \"\"}}, \"type\": \"scatter\"}], \"scatter3d\": [{\"line\": {\"colorbar\": {\"outlinewidth\": 0, \"ticks\": \"\"}}, \"marker\": {\"colorbar\": {\"outlinewidth\": 0, \"ticks\": \"\"}}, \"type\": \"scatter3d\"}], \"scattercarpet\": [{\"marker\": {\"colorbar\": {\"outlinewidth\": 0, \"ticks\": \"\"}}, \"type\": \"scattercarpet\"}], \"scattergeo\": [{\"marker\": {\"colorbar\": {\"outlinewidth\": 0, \"ticks\": \"\"}}, \"type\": \"scattergeo\"}], \"scattergl\": [{\"marker\": {\"colorbar\": {\"outlinewidth\": 0, \"ticks\": \"\"}}, \"type\": \"scattergl\"}], \"scattermapbox\": [{\"marker\": {\"colorbar\": {\"outlinewidth\": 0, \"ticks\": \"\"}}, \"type\": \"scattermapbox\"}], \"scatterpolar\": [{\"marker\": {\"colorbar\": {\"outlinewidth\": 0, \"ticks\": \"\"}}, \"type\": \"scatterpolar\"}], \"scatterpolargl\": [{\"marker\": {\"colorbar\": {\"outlinewidth\": 0, \"ticks\": \"\"}}, \"type\": \"scatterpolargl\"}], \"scatterternary\": [{\"marker\": {\"colorbar\": {\"outlinewidth\": 0, \"ticks\": \"\"}}, \"type\": \"scatterternary\"}], \"surface\": [{\"colorbar\": {\"outlinewidth\": 0, \"ticks\": \"\"}, \"colorscale\": [[0.0, \"#0d0887\"], [0.1111111111111111, \"#46039f\"], [0.2222222222222222, \"#7201a8\"], [0.3333333333333333, \"#9c179e\"], [0.4444444444444444, \"#bd3786\"], [0.5555555555555556, \"#d8576b\"], [0.6666666666666666, \"#ed7953\"], [0.7777777777777778, \"#fb9f3a\"], [0.8888888888888888, \"#fdca26\"], [1.0, \"#f0f921\"]], \"type\": \"surface\"}], \"table\": [{\"cells\": {\"fill\": {\"color\": \"#EBF0F8\"}, \"line\": {\"color\": \"white\"}}, \"header\": {\"fill\": {\"color\": \"#C8D4E3\"}, \"line\": {\"color\": \"white\"}}, \"type\": \"table\"}]}, \"layout\": {\"annotationdefaults\": {\"arrowcolor\": \"#2a3f5f\", \"arrowhead\": 0, \"arrowwidth\": 1}, \"autotypenumbers\": \"strict\", \"coloraxis\": {\"colorbar\": {\"outlinewidth\": 0, \"ticks\": \"\"}}, \"colorscale\": {\"diverging\": [[0, \"#8e0152\"], [0.1, \"#c51b7d\"], [0.2, \"#de77ae\"], [0.3, \"#f1b6da\"], [0.4, \"#fde0ef\"], [0.5, \"#f7f7f7\"], [0.6, \"#e6f5d0\"], [0.7, \"#b8e186\"], [0.8, \"#7fbc41\"], [0.9, \"#4d9221\"], [1, \"#276419\"]], \"sequential\": [[0.0, \"#0d0887\"], [0.1111111111111111, \"#46039f\"], [0.2222222222222222, \"#7201a8\"], [0.3333333333333333, \"#9c179e\"], [0.4444444444444444, \"#bd3786\"], [0.5555555555555556, \"#d8576b\"], [0.6666666666666666, \"#ed7953\"], [0.7777777777777778, \"#fb9f3a\"], [0.8888888888888888, \"#fdca26\"], [1.0, \"#f0f921\"]], \"sequentialminus\": [[0.0, \"#0d0887\"], [0.1111111111111111, \"#46039f\"], [0.2222222222222222, \"#7201a8\"], [0.3333333333333333, \"#9c179e\"], [0.4444444444444444, \"#bd3786\"], [0.5555555555555556, \"#d8576b\"], [0.6666666666666666, \"#ed7953\"], [0.7777777777777778, \"#fb9f3a\"], [0.8888888888888888, \"#fdca26\"], [1.0, \"#f0f921\"]]}, \"colorway\": [\"#636efa\", \"#EF553B\", \"#00cc96\", \"#ab63fa\", \"#FFA15A\", \"#19d3f3\", \"#FF6692\", \"#B6E880\", \"#FF97FF\", \"#FECB52\"], \"font\": {\"color\": \"#2a3f5f\"}, \"geo\": {\"bgcolor\": \"white\", \"lakecolor\": \"white\", \"landcolor\": \"#E5ECF6\", \"showlakes\": true, \"showland\": true, \"subunitcolor\": \"white\"}, \"hoverlabel\": {\"align\": \"left\"}, \"hovermode\": \"closest\", \"mapbox\": {\"style\": \"light\"}, \"paper_bgcolor\": \"white\", \"plot_bgcolor\": \"#E5ECF6\", \"polar\": {\"angularaxis\": {\"gridcolor\": \"white\", \"linecolor\": \"white\", \"ticks\": \"\"}, \"bgcolor\": \"#E5ECF6\", \"radialaxis\": {\"gridcolor\": \"white\", \"linecolor\": \"white\", \"ticks\": \"\"}}, \"scene\": {\"xaxis\": {\"backgroundcolor\": \"#E5ECF6\", \"gridcolor\": \"white\", \"gridwidth\": 2, \"linecolor\": \"white\", \"showbackground\": true, \"ticks\": \"\", \"zerolinecolor\": \"white\"}, \"yaxis\": {\"backgroundcolor\": \"#E5ECF6\", \"gridcolor\": \"white\", \"gridwidth\": 2, \"linecolor\": \"white\", \"showbackground\": true, \"ticks\": \"\", \"zerolinecolor\": \"white\"}, \"zaxis\": {\"backgroundcolor\": \"#E5ECF6\", \"gridcolor\": \"white\", \"gridwidth\": 2, \"linecolor\": \"white\", \"showbackground\": true, \"ticks\": \"\", \"zerolinecolor\": \"white\"}}, \"shapedefaults\": {\"line\": {\"color\": \"#2a3f5f\"}}, \"ternary\": {\"aaxis\": {\"gridcolor\": \"white\", \"linecolor\": \"white\", \"ticks\": \"\"}, \"baxis\": {\"gridcolor\": \"white\", \"linecolor\": \"white\", \"ticks\": \"\"}, \"bgcolor\": \"#E5ECF6\", \"caxis\": {\"gridcolor\": \"white\", \"linecolor\": \"white\", \"ticks\": \"\"}}, \"title\": {\"x\": 0.05}, \"xaxis\": {\"automargin\": true, \"gridcolor\": \"white\", \"linecolor\": \"white\", \"ticks\": \"\", \"title\": {\"standoff\": 15}, \"zerolinecolor\": \"white\", \"zerolinewidth\": 2}, \"yaxis\": {\"automargin\": true, \"gridcolor\": \"white\", \"linecolor\": \"white\", \"ticks\": \"\", \"title\": {\"standoff\": 15}, \"zerolinecolor\": \"white\", \"zerolinewidth\": 2}}}},                        {\"responsive\": true}                    ).then(function(){\n",
       "                            \n",
       "var gd = document.getElementById('1248b1d1-85d1-478c-894f-0e656e1fd7e6');\n",
       "var x = new MutationObserver(function (mutations, observer) {{\n",
       "        var display = window.getComputedStyle(gd).display;\n",
       "        if (!display || display === 'none') {{\n",
       "            console.log([gd, 'removed!']);\n",
       "            Plotly.purge(gd);\n",
       "            observer.disconnect();\n",
       "        }}\n",
       "}});\n",
       "\n",
       "// Listen for the removal of the full notebook cells\n",
       "var notebookContainer = gd.closest('#notebook-container');\n",
       "if (notebookContainer) {{\n",
       "    x.observe(notebookContainer, {childList: true});\n",
       "}}\n",
       "\n",
       "// Listen for the clearing of the current output cell\n",
       "var outputEl = gd.closest('.output');\n",
       "if (outputEl) {{\n",
       "    x.observe(outputEl, {childList: true});\n",
       "}}\n",
       "\n",
       "                        })                };                });            </script>        </div>"
      ]
     },
     "metadata": {},
     "output_type": "display_data"
    },
    {
     "data": {
      "text/plain": [
       "'file.html'"
      ]
     },
     "execution_count": 54,
     "metadata": {},
     "output_type": "execute_result"
    }
   ],
   "source": [
    "values = ['Ladder score','Healthy life expectancy']\n",
    "fig = px.sunburst(df, path=['Regional indicator', 'Country name'], values='Ladder score',\n",
    "                  color='Ladder score',\n",
    "                  color_continuous_scale='RdBu',\n",
    "                  color_continuous_midpoint=np.average(df['Ladder score'], weights=df['Ladder score']))\n",
    "fig.update_layout(\n",
    "    margin = dict(t=10, l=10, r=10, b=10)\n",
    ")\n",
    "fig.show()\n",
    "pl.offline.plot(fig,filename='file.html')"
   ]
  },
  {
   "cell_type": "code",
   "execution_count": 55,
   "id": "0a5a3b5f",
   "metadata": {},
   "outputs": [
    {
     "data": {
      "text/plain": [
       "(149, 20)"
      ]
     },
     "execution_count": 55,
     "metadata": {},
     "output_type": "execute_result"
    }
   ],
   "source": [
    "df.shape"
   ]
  },
  {
   "cell_type": "code",
   "execution_count": 56,
   "id": "4740cdd0",
   "metadata": {},
   "outputs": [
    {
     "data": {
      "text/plain": [
       "Index(['Country name', 'Regional indicator', 'Ladder score',\n",
       "       'Standard error of ladder score', 'upperwhisker', 'lowerwhisker',\n",
       "       'Logged GDP per capita', 'Social support', 'Healthy life expectancy',\n",
       "       'Freedom to make life choices', 'Generosity',\n",
       "       'Perceptions of corruption', 'Ladder score in Dystopia',\n",
       "       'Explained by: Log GDP per capita', 'Explained by: Social support',\n",
       "       'Explained by: Healthy life expectancy',\n",
       "       'Explained by: Freedom to make life choices',\n",
       "       'Explained by: Generosity', 'Explained by: Perceptions of corruption',\n",
       "       'Dystopia + residual'],\n",
       "      dtype='object')"
      ]
     },
     "execution_count": 56,
     "metadata": {},
     "output_type": "execute_result"
    }
   ],
   "source": [
    "df.columns"
   ]
  },
  {
   "cell_type": "code",
   "execution_count": 57,
   "id": "c0331acc",
   "metadata": {},
   "outputs": [
    {
     "name": "stdout",
     "output_type": "stream",
     "text": [
      "Country name --> 0.0%\n",
      "Regional indicator --> 0.0%\n",
      "Ladder score --> 0.0%\n",
      "Standard error of ladder score --> 0.0%\n",
      "upperwhisker --> 0.0%\n",
      "lowerwhisker --> 0.0%\n",
      "Logged GDP per capita --> 0.0%\n",
      "Social support --> 0.0%\n",
      "Healthy life expectancy --> 0.0%\n",
      "Freedom to make life choices --> 0.0%\n",
      "Generosity --> 0.0%\n",
      "Perceptions of corruption --> 0.0%\n",
      "Ladder score in Dystopia --> 0.0%\n",
      "Explained by: Log GDP per capita --> 0.0%\n",
      "Explained by: Social support --> 0.0%\n",
      "Explained by: Healthy life expectancy --> 0.0%\n",
      "Explained by: Freedom to make life choices --> 0.0%\n",
      "Explained by: Generosity --> 0.0%\n",
      "Explained by: Perceptions of corruption --> 0.0%\n",
      "Dystopia + residual --> 0.0%\n"
     ]
    }
   ],
   "source": [
    "for column in df.columns:\n",
    "    percantage_missing = np.mean(df[column].isnull())\n",
    "    print('{} --> {}%'.format(column,percantage_missing))\n",
    "# there are no null values"
   ]
  },
  {
   "cell_type": "code",
   "execution_count": 58,
   "id": "1e50cd50",
   "metadata": {},
   "outputs": [
    {
     "data": {
      "text/plain": [
       "Country name                                   object\n",
       "Regional indicator                             object\n",
       "Ladder score                                  float64\n",
       "Standard error of ladder score                float64\n",
       "upperwhisker                                  float64\n",
       "lowerwhisker                                  float64\n",
       "Logged GDP per capita                         float64\n",
       "Social support                                float64\n",
       "Healthy life expectancy                       float64\n",
       "Freedom to make life choices                  float64\n",
       "Generosity                                    float64\n",
       "Perceptions of corruption                     float64\n",
       "Ladder score in Dystopia                      float64\n",
       "Explained by: Log GDP per capita              float64\n",
       "Explained by: Social support                  float64\n",
       "Explained by: Healthy life expectancy         float64\n",
       "Explained by: Freedom to make life choices    float64\n",
       "Explained by: Generosity                      float64\n",
       "Explained by: Perceptions of corruption       float64\n",
       "Dystopia + residual                           float64\n",
       "dtype: object"
      ]
     },
     "execution_count": 58,
     "metadata": {},
     "output_type": "execute_result"
    }
   ],
   "source": [
    "df.dtypes# most of then are nemuric "
   ]
  },
  {
   "cell_type": "code",
   "execution_count": 59,
   "id": "265bf277",
   "metadata": {},
   "outputs": [
    {
     "data": {
      "image/png": "[encoded data removed]",
      "text/plain": [
       "<Figure size 2160x1800 with 20 Axes>"
      ]
     },
     "metadata": {
      "needs_background": "light"
     },
     "output_type": "display_data"
    }
   ],
   "source": [
    "df.hist(figsize=(30,25),bins=10,edgecolor='black',color='lightblue')\n",
    "\n",
    "plt.show()"
   ]
  },
  {
   "cell_type": "markdown",
   "id": "e101f84a",
   "metadata": {},
   "source": [
    "##### As we see , we have a various values . except  Ladder score in Dystopia we have one value ."
   ]
  },
  {
   "cell_type": "markdown",
   "id": "ea01eaa1",
   "metadata": {},
   "source": [
    "### 2- TOP 10 HAPPY COUNTRIES :"
   ]
  },
  {
   "cell_type": "code",
   "execution_count": 60,
   "id": "9412503f",
   "metadata": {},
   "outputs": [
    {
     "data": {
      "text/plain": [
       "Country name\n",
       "Finland        7.842\n",
       "Denmark        7.620\n",
       "Switzerland    7.571\n",
       "Iceland        7.554\n",
       "Netherlands    7.464\n",
       "Norway         7.392\n",
       "Sweden         7.363\n",
       "Luxembourg     7.324\n",
       "New Zealand    7.277\n",
       "Austria        7.268\n",
       "Name: Ladder score, dtype: float64"
      ]
     },
     "execution_count": 60,
     "metadata": {},
     "output_type": "execute_result"
    }
   ],
   "source": [
    "country_ladderScore = df.groupby('Country name')['Ladder score'].mean().sort_values(ascending= False).head(10)\n",
    "country_ladderScore"
   ]
  },
  {
   "cell_type": "code",
   "execution_count": 61,
   "id": "ee90b07d",
   "metadata": {},
   "outputs": [
    {
     "name": "stderr",
     "output_type": "stream",
     "text": [
      "C:\\Users\\islem\\anaconda3\\lib\\site-packages\\seaborn\\_decorators.py:36: FutureWarning:\n",
      "\n",
      "Pass the following variables as keyword args: x, y. From version 0.12, the only valid positional argument will be `data`, and passing other arguments without an explicit keyword will result in an error or misinterpretation.\n",
      "\n"
     ]
    },
    {
     "data": {
      "text/plain": [
       "<AxesSubplot:ylabel='Country name'>"
      ]
     },
     "execution_count": 61,
     "metadata": {},
     "output_type": "execute_result"
    },
    {
     "data": {
      "image/png": "[encoded data removed]",
      "text/plain": [
       "<Figure size 864x576 with 1 Axes>"
      ]
     },
     "metadata": {
      "needs_background": "light"
     },
     "output_type": "display_data"
    }
   ],
   "source": [
    "sns.set_palette('RdBu')\n",
    "sns.color_palette(\"Set2\")\n",
    "sns.barplot(country_ladderScore.values, country_ladderScore.index)\n"
   ]
  },
  {
   "cell_type": "markdown",
   "id": "7d55c83c",
   "metadata": {},
   "source": [
    "### 3- FREEDOM VS LADDER SCORE:"
   ]
  },
  {
   "cell_type": "code",
   "execution_count": 62,
   "id": "e96997ae",
   "metadata": {
    "scrolled": true
   },
   "outputs": [
    {
     "data": {
      "text/plain": [
       "<matplotlib.collections.PathCollection at 0x1ca78d87610>"
      ]
     },
     "execution_count": 62,
     "metadata": {},
     "output_type": "execute_result"
    },
    {
     "data": {
      "image/png": "[encoded data removed]",
      "text/plain": [
       "<Figure size 864x576 with 1 Axes>"
      ]
     },
     "metadata": {
      "needs_background": "light"
     },
     "output_type": "display_data"
    }
   ],
   "source": [
    "plt.scatter(df['Freedom to make life choices'] ,df['Ladder score'])"
   ]
  },
  {
   "cell_type": "code",
   "execution_count": 63,
   "id": "43e8ae02",
   "metadata": {},
   "outputs": [
    {
     "data": {
      "text/plain": [
       "<AxesSubplot:xlabel='Freedom to make life choices', ylabel='Ladder score'>"
      ]
     },
     "execution_count": 63,
     "metadata": {},
     "output_type": "execute_result"
    },
    {
     "data": {
      "image/png": "[encoded data removed]",
      "text/plain": [
       "<Figure size 864x576 with 1 Axes>"
      ]
     },
     "metadata": {
      "needs_background": "light"
     },
     "output_type": "display_data"
    }
   ],
   "source": [
    "sns.regplot(x='Freedom to make life choices',y='Ladder score',data=df,scatter_kws={'color':'red'},line_kws={'color':'blue'})\n"
   ]
  },
  {
   "cell_type": "markdown",
   "id": "25d0d945",
   "metadata": {},
   "source": [
    "### 4- SOCIAL SUPPORT VS LADDER SCORE :"
   ]
  },
  {
   "cell_type": "code",
   "execution_count": 64,
   "id": "4836331e",
   "metadata": {},
   "outputs": [
    {
     "data": {
      "text/plain": [
       "<AxesSubplot:xlabel='Explained by: Social support', ylabel='Ladder score'>"
      ]
     },
     "execution_count": 64,
     "metadata": {},
     "output_type": "execute_result"
    },
    {
     "data": {
      "image/png": "[encoded data removed]",
      "text/plain": [
       "<Figure size 864x576 with 1 Axes>"
      ]
     },
     "metadata": {
      "needs_background": "light"
     },
     "output_type": "display_data"
    }
   ],
   "source": [
    "sns.regplot(x='Explained by: Social support',y='Ladder score',data=df,scatter_kws={'color':'red'},line_kws={'color':'blue'})\n"
   ]
  },
  {
   "cell_type": "markdown",
   "id": "c78fd62a",
   "metadata": {},
   "source": [
    "### 5- GENEROSITY VS LADDER SCORE:"
   ]
  },
  {
   "cell_type": "code",
   "execution_count": 65,
   "id": "4f771d4f",
   "metadata": {},
   "outputs": [
    {
     "data": {
      "text/plain": [
       "<AxesSubplot:xlabel='Explained by: Generosity', ylabel='Ladder score'>"
      ]
     },
     "execution_count": 65,
     "metadata": {},
     "output_type": "execute_result"
    },
    {
     "data": {
      "image/png": "[encoded data removed]",
      "text/plain": [
       "<Figure size 864x576 with 1 Axes>"
      ]
     },
     "metadata": {
      "needs_background": "light"
     },
     "output_type": "display_data"
    }
   ],
   "source": [
    "sns.regplot(x='Explained by: Generosity',y='Ladder score',data=df,scatter_kws={'color':'red'},line_kws={'color':'blue'})\n",
    "# there is no high corrlation "
   ]
  },
  {
   "cell_type": "markdown",
   "id": "4b583fbd",
   "metadata": {},
   "source": [
    "### 6- HEALTH VS LADDER SCORE:"
   ]
  },
  {
   "cell_type": "code",
   "execution_count": 66,
   "id": "15304a06",
   "metadata": {},
   "outputs": [
    {
     "data": {
      "text/plain": [
       "<AxesSubplot:xlabel='Explained by: Healthy life expectancy', ylabel='Ladder score'>"
      ]
     },
     "execution_count": 66,
     "metadata": {},
     "output_type": "execute_result"
    },
    {
     "data": {
      "image/png": "[encoded data removed]",
      "text/plain": [
       "<Figure size 864x576 with 1 Axes>"
      ]
     },
     "metadata": {
      "needs_background": "light"
     },
     "output_type": "display_data"
    }
   ],
   "source": [
    "\n",
    "sns.regplot(x='Explained by: Healthy life expectancy',y='Ladder score',data=df,scatter_kws={'color':'red'},line_kws={'color':'blue'})"
   ]
  },
  {
   "cell_type": "markdown",
   "id": "f55bc080",
   "metadata": {},
   "source": [
    "### 7- REGION VS LADDER SCORE :"
   ]
  },
  {
   "cell_type": "code",
   "execution_count": 67,
   "id": "eda9d995",
   "metadata": {},
   "outputs": [],
   "source": [
    "list_x = []\n",
    "\n",
    "for value in df['Regional indicator'].unique():\n",
    "    data = df.groupby('Regional indicator').get_group(value)\n",
    "    list_x.append((data['Ladder score'].mean()))\n",
    "d= np.array(list(zip(list_x,[i for i in df['Regional indicator'].unique()])))\n",
    "data1 = pd.DataFrame(data=d)\n",
    "\n"
   ]
  },
  {
   "cell_type": "code",
   "execution_count": 68,
   "id": "e6496bf6",
   "metadata": {},
   "outputs": [
    {
     "data": {
      "image/png": "[encoded data removed]",
      "text/plain": [
       "<Figure size 576x396 with 1 Axes>"
      ]
     },
     "metadata": {},
     "output_type": "display_data"
    }
   ],
   "source": [
    "data2= data1.rename(columns={0:'the mean of the ',1:'the regoin'})\n",
    "data2 = data2.sort_values(by='the mean of the ', ascending = False)\n",
    "y= data2['the mean of the ']\n",
    "x= data2['the regoin']\n",
    "colors = ['#8894ff', '#39e0f0', '#ec9e69', '#73ff7f', '#b880a8', '#f764ff', '#d14462', '#e2a998','#f0afff']\n",
    "plt.style.use('seaborn')\n",
    "plt.barh(list(reversed(x)),list(reversed(y)),color=colors)\n",
    "plt.xticks(rotation=90)\n",
    "plt.tight_layout()\n",
    "\n",
    "plt.show()"
   ]
  },
  {
   "cell_type": "markdown",
   "id": "f354d6e4",
   "metadata": {},
   "source": [
    "# III - CORRELATION :"
   ]
  },
  {
   "cell_type": "code",
   "execution_count": 69,
   "id": "5dccdf5d",
   "metadata": {
    "scrolled": true,
    "tags": []
   },
   "outputs": [
    {
     "data": {
      "text/html": [
       "<div>\n",
       "<style scoped>\n",
       "    .dataframe tbody tr th:only-of-type {\n",
       "        vertical-align: middle;\n",
       "    }\n",
       "\n",
       "    .dataframe tbody tr th {\n",
       "        vertical-align: top;\n",
       "    }\n",
       "\n",
       "    .dataframe thead th {\n",
       "        text-align: right;\n",
       "    }\n",
       "</style>\n",
       "<table border=\"1\" class=\"dataframe\">\n",
       "  <thead>\n",
       "    <tr style=\"text-align: right;\">\n",
       "      <th></th>\n",
       "      <th>Country name</th>\n",
       "      <th>Regional indicator</th>\n",
       "      <th>Ladder score</th>\n",
       "      <th>Standard error of ladder score</th>\n",
       "      <th>upperwhisker</th>\n",
       "      <th>lowerwhisker</th>\n",
       "      <th>Logged GDP per capita</th>\n",
       "      <th>Social support</th>\n",
       "      <th>Healthy life expectancy</th>\n",
       "      <th>Freedom to make life choices</th>\n",
       "      <th>Generosity</th>\n",
       "      <th>Perceptions of corruption</th>\n",
       "      <th>Ladder score in Dystopia</th>\n",
       "      <th>Explained by: Log GDP per capita</th>\n",
       "      <th>Explained by: Social support</th>\n",
       "      <th>Explained by: Healthy life expectancy</th>\n",
       "      <th>Explained by: Freedom to make life choices</th>\n",
       "      <th>Explained by: Generosity</th>\n",
       "      <th>Explained by: Perceptions of corruption</th>\n",
       "      <th>Dystopia + residual</th>\n",
       "    </tr>\n",
       "  </thead>\n",
       "  <tbody>\n",
       "    <tr>\n",
       "      <th>0</th>\n",
       "      <td>Finland</td>\n",
       "      <td>9</td>\n",
       "      <td>7.842</td>\n",
       "      <td>0.032</td>\n",
       "      <td>7.904</td>\n",
       "      <td>7.780</td>\n",
       "      <td>10.775</td>\n",
       "      <td>0.954</td>\n",
       "      <td>72.000</td>\n",
       "      <td>0.949</td>\n",
       "      <td>-0.098</td>\n",
       "      <td>0.186</td>\n",
       "      <td>2.43</td>\n",
       "      <td>1.446</td>\n",
       "      <td>1.106</td>\n",
       "      <td>0.741</td>\n",
       "      <td>0.691</td>\n",
       "      <td>0.124</td>\n",
       "      <td>0.481</td>\n",
       "      <td>3.253</td>\n",
       "    </tr>\n",
       "    <tr>\n",
       "      <th>1</th>\n",
       "      <td>Denmark</td>\n",
       "      <td>9</td>\n",
       "      <td>7.620</td>\n",
       "      <td>0.035</td>\n",
       "      <td>7.687</td>\n",
       "      <td>7.552</td>\n",
       "      <td>10.933</td>\n",
       "      <td>0.954</td>\n",
       "      <td>72.700</td>\n",
       "      <td>0.946</td>\n",
       "      <td>0.030</td>\n",
       "      <td>0.179</td>\n",
       "      <td>2.43</td>\n",
       "      <td>1.502</td>\n",
       "      <td>1.108</td>\n",
       "      <td>0.763</td>\n",
       "      <td>0.686</td>\n",
       "      <td>0.208</td>\n",
       "      <td>0.485</td>\n",
       "      <td>2.868</td>\n",
       "    </tr>\n",
       "    <tr>\n",
       "      <th>2</th>\n",
       "      <td>Switzerland</td>\n",
       "      <td>9</td>\n",
       "      <td>7.571</td>\n",
       "      <td>0.036</td>\n",
       "      <td>7.643</td>\n",
       "      <td>7.500</td>\n",
       "      <td>11.117</td>\n",
       "      <td>0.942</td>\n",
       "      <td>74.400</td>\n",
       "      <td>0.919</td>\n",
       "      <td>0.025</td>\n",
       "      <td>0.292</td>\n",
       "      <td>2.43</td>\n",
       "      <td>1.566</td>\n",
       "      <td>1.079</td>\n",
       "      <td>0.816</td>\n",
       "      <td>0.653</td>\n",
       "      <td>0.204</td>\n",
       "      <td>0.413</td>\n",
       "      <td>2.839</td>\n",
       "    </tr>\n",
       "    <tr>\n",
       "      <th>3</th>\n",
       "      <td>Iceland</td>\n",
       "      <td>9</td>\n",
       "      <td>7.554</td>\n",
       "      <td>0.059</td>\n",
       "      <td>7.670</td>\n",
       "      <td>7.438</td>\n",
       "      <td>10.878</td>\n",
       "      <td>0.983</td>\n",
       "      <td>73.000</td>\n",
       "      <td>0.955</td>\n",
       "      <td>0.160</td>\n",
       "      <td>0.673</td>\n",
       "      <td>2.43</td>\n",
       "      <td>1.482</td>\n",
       "      <td>1.172</td>\n",
       "      <td>0.772</td>\n",
       "      <td>0.698</td>\n",
       "      <td>0.293</td>\n",
       "      <td>0.170</td>\n",
       "      <td>2.967</td>\n",
       "    </tr>\n",
       "    <tr>\n",
       "      <th>4</th>\n",
       "      <td>Netherlands</td>\n",
       "      <td>9</td>\n",
       "      <td>7.464</td>\n",
       "      <td>0.027</td>\n",
       "      <td>7.518</td>\n",
       "      <td>7.410</td>\n",
       "      <td>10.932</td>\n",
       "      <td>0.942</td>\n",
       "      <td>72.400</td>\n",
       "      <td>0.913</td>\n",
       "      <td>0.175</td>\n",
       "      <td>0.338</td>\n",
       "      <td>2.43</td>\n",
       "      <td>1.501</td>\n",
       "      <td>1.079</td>\n",
       "      <td>0.753</td>\n",
       "      <td>0.647</td>\n",
       "      <td>0.302</td>\n",
       "      <td>0.384</td>\n",
       "      <td>2.798</td>\n",
       "    </tr>\n",
       "    <tr>\n",
       "      <th>...</th>\n",
       "      <td>...</td>\n",
       "      <td>...</td>\n",
       "      <td>...</td>\n",
       "      <td>...</td>\n",
       "      <td>...</td>\n",
       "      <td>...</td>\n",
       "      <td>...</td>\n",
       "      <td>...</td>\n",
       "      <td>...</td>\n",
       "      <td>...</td>\n",
       "      <td>...</td>\n",
       "      <td>...</td>\n",
       "      <td>...</td>\n",
       "      <td>...</td>\n",
       "      <td>...</td>\n",
       "      <td>...</td>\n",
       "      <td>...</td>\n",
       "      <td>...</td>\n",
       "      <td>...</td>\n",
       "      <td>...</td>\n",
       "    </tr>\n",
       "    <tr>\n",
       "      <th>144</th>\n",
       "      <td>Lesotho</td>\n",
       "      <td>8</td>\n",
       "      <td>3.512</td>\n",
       "      <td>0.120</td>\n",
       "      <td>3.748</td>\n",
       "      <td>3.276</td>\n",
       "      <td>7.926</td>\n",
       "      <td>0.787</td>\n",
       "      <td>48.700</td>\n",
       "      <td>0.715</td>\n",
       "      <td>-0.131</td>\n",
       "      <td>0.915</td>\n",
       "      <td>2.43</td>\n",
       "      <td>0.451</td>\n",
       "      <td>0.731</td>\n",
       "      <td>0.007</td>\n",
       "      <td>0.405</td>\n",
       "      <td>0.103</td>\n",
       "      <td>0.015</td>\n",
       "      <td>1.800</td>\n",
       "    </tr>\n",
       "    <tr>\n",
       "      <th>145</th>\n",
       "      <td>Botswana</td>\n",
       "      <td>8</td>\n",
       "      <td>3.467</td>\n",
       "      <td>0.074</td>\n",
       "      <td>3.611</td>\n",
       "      <td>3.322</td>\n",
       "      <td>9.782</td>\n",
       "      <td>0.784</td>\n",
       "      <td>59.269</td>\n",
       "      <td>0.824</td>\n",
       "      <td>-0.246</td>\n",
       "      <td>0.801</td>\n",
       "      <td>2.43</td>\n",
       "      <td>1.099</td>\n",
       "      <td>0.724</td>\n",
       "      <td>0.340</td>\n",
       "      <td>0.539</td>\n",
       "      <td>0.027</td>\n",
       "      <td>0.088</td>\n",
       "      <td>0.648</td>\n",
       "    </tr>\n",
       "    <tr>\n",
       "      <th>146</th>\n",
       "      <td>Rwanda</td>\n",
       "      <td>8</td>\n",
       "      <td>3.415</td>\n",
       "      <td>0.068</td>\n",
       "      <td>3.548</td>\n",
       "      <td>3.282</td>\n",
       "      <td>7.676</td>\n",
       "      <td>0.552</td>\n",
       "      <td>61.400</td>\n",
       "      <td>0.897</td>\n",
       "      <td>0.061</td>\n",
       "      <td>0.167</td>\n",
       "      <td>2.43</td>\n",
       "      <td>0.364</td>\n",
       "      <td>0.202</td>\n",
       "      <td>0.407</td>\n",
       "      <td>0.627</td>\n",
       "      <td>0.227</td>\n",
       "      <td>0.493</td>\n",
       "      <td>1.095</td>\n",
       "    </tr>\n",
       "    <tr>\n",
       "      <th>147</th>\n",
       "      <td>Zimbabwe</td>\n",
       "      <td>8</td>\n",
       "      <td>3.145</td>\n",
       "      <td>0.058</td>\n",
       "      <td>3.259</td>\n",
       "      <td>3.030</td>\n",
       "      <td>7.943</td>\n",
       "      <td>0.750</td>\n",
       "      <td>56.201</td>\n",
       "      <td>0.677</td>\n",
       "      <td>-0.047</td>\n",
       "      <td>0.821</td>\n",
       "      <td>2.43</td>\n",
       "      <td>0.457</td>\n",
       "      <td>0.649</td>\n",
       "      <td>0.243</td>\n",
       "      <td>0.359</td>\n",
       "      <td>0.157</td>\n",
       "      <td>0.075</td>\n",
       "      <td>1.205</td>\n",
       "    </tr>\n",
       "    <tr>\n",
       "      <th>148</th>\n",
       "      <td>Afghanistan</td>\n",
       "      <td>6</td>\n",
       "      <td>2.523</td>\n",
       "      <td>0.038</td>\n",
       "      <td>2.596</td>\n",
       "      <td>2.449</td>\n",
       "      <td>7.695</td>\n",
       "      <td>0.463</td>\n",
       "      <td>52.493</td>\n",
       "      <td>0.382</td>\n",
       "      <td>-0.102</td>\n",
       "      <td>0.924</td>\n",
       "      <td>2.43</td>\n",
       "      <td>0.370</td>\n",
       "      <td>0.000</td>\n",
       "      <td>0.126</td>\n",
       "      <td>0.000</td>\n",
       "      <td>0.122</td>\n",
       "      <td>0.010</td>\n",
       "      <td>1.895</td>\n",
       "    </tr>\n",
       "  </tbody>\n",
       "</table>\n",
       "<p>149 rows × 20 columns</p>\n",
       "</div>"
      ],
      "text/plain": [
       "    Country name  Regional indicator  Ladder score  \\\n",
       "0        Finland                   9         7.842   \n",
       "1        Denmark                   9         7.620   \n",
       "2    Switzerland                   9         7.571   \n",
       "3        Iceland                   9         7.554   \n",
       "4    Netherlands                   9         7.464   \n",
       "..           ...                 ...           ...   \n",
       "144      Lesotho                   8         3.512   \n",
       "145     Botswana                   8         3.467   \n",
       "146       Rwanda                   8         3.415   \n",
       "147     Zimbabwe                   8         3.145   \n",
       "148  Afghanistan                   6         2.523   \n",
       "\n",
       "     Standard error of ladder score  upperwhisker  lowerwhisker  \\\n",
       "0                             0.032         7.904         7.780   \n",
       "1                             0.035         7.687         7.552   \n",
       "2                             0.036         7.643         7.500   \n",
       "3                             0.059         7.670         7.438   \n",
       "4                             0.027         7.518         7.410   \n",
       "..                              ...           ...           ...   \n",
       "144                           0.120         3.748         3.276   \n",
       "145                           0.074         3.611         3.322   \n",
       "146                           0.068         3.548         3.282   \n",
       "147                           0.058         3.259         3.030   \n",
       "148                           0.038         2.596         2.449   \n",
       "\n",
       "     Logged GDP per capita  Social support  Healthy life expectancy  \\\n",
       "0                   10.775           0.954                   72.000   \n",
       "1                   10.933           0.954                   72.700   \n",
       "2                   11.117           0.942                   74.400   \n",
       "3                   10.878           0.983                   73.000   \n",
       "4                   10.932           0.942                   72.400   \n",
       "..                     ...             ...                      ...   \n",
       "144                  7.926           0.787                   48.700   \n",
       "145                  9.782           0.784                   59.269   \n",
       "146                  7.676           0.552                   61.400   \n",
       "147                  7.943           0.750                   56.201   \n",
       "148                  7.695           0.463                   52.493   \n",
       "\n",
       "     Freedom to make life choices  Generosity  Perceptions of corruption  \\\n",
       "0                           0.949      -0.098                      0.186   \n",
       "1                           0.946       0.030                      0.179   \n",
       "2                           0.919       0.025                      0.292   \n",
       "3                           0.955       0.160                      0.673   \n",
       "4                           0.913       0.175                      0.338   \n",
       "..                            ...         ...                        ...   \n",
       "144                         0.715      -0.131                      0.915   \n",
       "145                         0.824      -0.246                      0.801   \n",
       "146                         0.897       0.061                      0.167   \n",
       "147                         0.677      -0.047                      0.821   \n",
       "148                         0.382      -0.102                      0.924   \n",
       "\n",
       "     Ladder score in Dystopia  Explained by: Log GDP per capita  \\\n",
       "0                        2.43                             1.446   \n",
       "1                        2.43                             1.502   \n",
       "2                        2.43                             1.566   \n",
       "3                        2.43                             1.482   \n",
       "4                        2.43                             1.501   \n",
       "..                        ...                               ...   \n",
       "144                      2.43                             0.451   \n",
       "145                      2.43                             1.099   \n",
       "146                      2.43                             0.364   \n",
       "147                      2.43                             0.457   \n",
       "148                      2.43                             0.370   \n",
       "\n",
       "     Explained by: Social support  Explained by: Healthy life expectancy  \\\n",
       "0                           1.106                                  0.741   \n",
       "1                           1.108                                  0.763   \n",
       "2                           1.079                                  0.816   \n",
       "3                           1.172                                  0.772   \n",
       "4                           1.079                                  0.753   \n",
       "..                            ...                                    ...   \n",
       "144                         0.731                                  0.007   \n",
       "145                         0.724                                  0.340   \n",
       "146                         0.202                                  0.407   \n",
       "147                         0.649                                  0.243   \n",
       "148                         0.000                                  0.126   \n",
       "\n",
       "     Explained by: Freedom to make life choices  Explained by: Generosity  \\\n",
       "0                                         0.691                     0.124   \n",
       "1                                         0.686                     0.208   \n",
       "2                                         0.653                     0.204   \n",
       "3                                         0.698                     0.293   \n",
       "4                                         0.647                     0.302   \n",
       "..                                          ...                       ...   \n",
       "144                                       0.405                     0.103   \n",
       "145                                       0.539                     0.027   \n",
       "146                                       0.627                     0.227   \n",
       "147                                       0.359                     0.157   \n",
       "148                                       0.000                     0.122   \n",
       "\n",
       "     Explained by: Perceptions of corruption  Dystopia + residual  \n",
       "0                                      0.481                3.253  \n",
       "1                                      0.485                2.868  \n",
       "2                                      0.413                2.839  \n",
       "3                                      0.170                2.967  \n",
       "4                                      0.384                2.798  \n",
       "..                                       ...                  ...  \n",
       "144                                    0.015                1.800  \n",
       "145                                    0.088                0.648  \n",
       "146                                    0.493                1.095  \n",
       "147                                    0.075                1.205  \n",
       "148                                    0.010                1.895  \n",
       "\n",
       "[149 rows x 20 columns]"
      ]
     },
     "execution_count": 69,
     "metadata": {},
     "output_type": "execute_result"
    }
   ],
   "source": [
    "df['Regional indicator'] = df['Regional indicator'].astype('category')\n",
    "df['Regional indicator'] = df['Regional indicator'].cat.codes\n",
    "df"
   ]
  },
  {
   "cell_type": "code",
   "execution_count": 70,
   "id": "11dc478a",
   "metadata": {},
   "outputs": [
    {
     "data": {
      "text/plain": [
       "<AxesSubplot:>"
      ]
     },
     "execution_count": 70,
     "metadata": {},
     "output_type": "execute_result"
    },
    {
     "data": {
      "image/png": "[encoded data removed]",
      "text/plain": [
       "<Figure size 576x396 with 2 Axes>"
      ]
     },
     "metadata": {},
     "output_type": "display_data"
    }
   ],
   "source": [
    "c = df.corr()\n",
    "sns.heatmap(c,annot= True)"
   ]
  },
  {
   "cell_type": "markdown",
   "id": "861e896f-60d9-49c2-bfc0-6a9210e331aa",
   "metadata": {},
   "source": [
    "### Droping the low corrlations:"
   ]
  },
  {
   "cell_type": "code",
   "execution_count": 71,
   "id": "38b1c2f6-402f-4418-a52b-30cfd3a50fbc",
   "metadata": {},
   "outputs": [],
   "source": [
    "df_1= df.drop(['Country name','Standard error of ladder score',\n",
    "               'Perceptions of corruption','Generosity','Explained by: Generosity',\n",
    "               'Dystopia + residual','Ladder score in Dystopia'],axis=1)"
   ]
  },
  {
   "cell_type": "code",
   "execution_count": 72,
   "id": "9ed72f1f-e8b4-44c5-9c14-de87d9d4f3fa",
   "metadata": {},
   "outputs": [
    {
     "data": {
      "text/plain": [
       "<AxesSubplot:>"
      ]
     },
     "execution_count": 72,
     "metadata": {},
     "output_type": "execute_result"
    },
    {
     "data": {
      "image/png": "[encoded data removed]",
      "text/plain": [
       "<Figure size 576x396 with 2 Axes>"
      ]
     },
     "metadata": {},
     "output_type": "display_data"
    }
   ],
   "source": [
    "c = df_1.corr()\n",
    "sns.heatmap(c,annot= True)"
   ]
  },
  {
   "cell_type": "markdown",
   "id": "d74dd9dd",
   "metadata": {},
   "source": [
    "# CONCLUTION :"
   ]
  },
  {
   "cell_type": "markdown",
   "id": "36841557",
   "metadata": {},
   "source": [
    "Happiness relates to :\n",
    "\n",
    "    - Logged GDP per capita .\n",
    "    - Healthy life expectancy .\n",
    "    - Social support .\n",
    "    - Freedom to make life choices . \n",
    "    "
   ]
  },
  {
   "cell_type": "code",
   "execution_count": null,
   "id": "7ad4c885",
   "metadata": {},
   "outputs": [],
   "source": []
  }
 ],
 "metadata": {
  "kernelspec": {
   "display_name": "Python 3",
   "language": "python",
   "name": "python3"
  },
  "language_info": {
   "codemirror_mode": {
    "name": "ipython",
    "version": 3
   },
   "file_extension": ".py",
   "mimetype": "text/x-python",
   "name": "python",
   "nbconvert_exporter": "python",
   "pygments_lexer": "ipython3",
   "version": "3.8.8"
  }
 },
 "nbformat": 4,
 "nbformat_minor": 5
}
